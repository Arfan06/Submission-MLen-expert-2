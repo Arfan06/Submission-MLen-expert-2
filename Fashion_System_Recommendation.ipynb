{
  "nbformat": 4,
  "nbformat_minor": 0,
  "metadata": {
    "colab": {
      "provenance": [],
      "toc_visible": true
    },
    "kernelspec": {
      "name": "python3",
      "display_name": "Python 3"
    },
    "language_info": {
      "name": "python"
    }
  },
  "cells": [
    {
      "cell_type": "markdown",
      "metadata": {
        "id": "H9wADwK78DCz"
      },
      "source": [
        "# Proyek Customer Churn\n",
        "- **Nama:** [Ari Fansuri]\n",
        "- **Email:** [arfansurti26@gmail.com]"
      ]
    },
    {
      "cell_type": "markdown",
      "metadata": {
        "id": "H-z4QGlO8DC1"
      },
      "source": [
        "## Import Semua Packages/Library yang Digunakan"
      ]
    },
    {
      "cell_type": "markdown",
      "source": [
        "Mengimpor dan instal semua library yang dibutuhkan."
      ],
      "metadata": {
        "id": "BxBBH4bXhYkg"
      }
    },
    {
      "cell_type": "code",
      "execution_count": null,
      "metadata": {
        "id": "FVYwaObI8DC1"
      },
      "outputs": [],
      "source": [
        "from google.colab import files\n",
        "import matplotlib.pyplot as plt\n",
        "import seaborn as sns\n",
        "import tensorflow as tf\n",
        "import pandas as pd\n",
        "import pickle\n",
        "import numpy as np\n",
        "\n",
        "from sklearn.feature_extraction.text import TfidfVectorizer\n",
        "from scipy.sparse import hstack\n",
        "from sklearn.metrics.pairwise import cosine_similarity\n",
        "from sklearn.model_selection import train_test_split\n",
        "from tensorflow.keras.models import Model\n",
        "from tensorflow.keras.layers import Input, Embedding, Flatten, Dot, Dense, Dropout, Concatenate\n"
      ]
    },
    {
      "cell_type": "markdown",
      "source": [
        "## Data Preparation"
      ],
      "metadata": {
        "id": "TK4DvqfbYrN8"
      }
    },
    {
      "cell_type": "markdown",
      "source": [
        "Mengimpor dataset dari kaggle dan melakukan ekstrak data dari format berekstensi zip."
      ],
      "metadata": {
        "id": "QfdEuH7fhg9x"
      }
    },
    {
      "cell_type": "code",
      "source": [
        "files.upload()"
      ],
      "metadata": {
        "colab": {
          "base_uri": "https://localhost:8080/",
          "height": 90
        },
        "id": "-9A3dI3_bDbb",
        "outputId": "ae43c12d-4816-43e5-b508-05dc13632623"
      },
      "execution_count": null,
      "outputs": [
        {
          "output_type": "display_data",
          "data": {
            "text/plain": [
              "<IPython.core.display.HTML object>"
            ],
            "text/html": [
              "\n",
              "     <input type=\"file\" id=\"files-e47f2abb-27ed-43f4-a106-39fb792fdb90\" name=\"files[]\" multiple disabled\n",
              "        style=\"border:none\" />\n",
              "     <output id=\"result-e47f2abb-27ed-43f4-a106-39fb792fdb90\">\n",
              "      Upload widget is only available when the cell has been executed in the\n",
              "      current browser session. Please rerun this cell to enable.\n",
              "      </output>\n",
              "      <script>// Copyright 2017 Google LLC\n",
              "//\n",
              "// Licensed under the Apache License, Version 2.0 (the \"License\");\n",
              "// you may not use this file except in compliance with the License.\n",
              "// You may obtain a copy of the License at\n",
              "//\n",
              "//      http://www.apache.org/licenses/LICENSE-2.0\n",
              "//\n",
              "// Unless required by applicable law or agreed to in writing, software\n",
              "// distributed under the License is distributed on an \"AS IS\" BASIS,\n",
              "// WITHOUT WARRANTIES OR CONDITIONS OF ANY KIND, either express or implied.\n",
              "// See the License for the specific language governing permissions and\n",
              "// limitations under the License.\n",
              "\n",
              "/**\n",
              " * @fileoverview Helpers for google.colab Python module.\n",
              " */\n",
              "(function(scope) {\n",
              "function span(text, styleAttributes = {}) {\n",
              "  const element = document.createElement('span');\n",
              "  element.textContent = text;\n",
              "  for (const key of Object.keys(styleAttributes)) {\n",
              "    element.style[key] = styleAttributes[key];\n",
              "  }\n",
              "  return element;\n",
              "}\n",
              "\n",
              "// Max number of bytes which will be uploaded at a time.\n",
              "const MAX_PAYLOAD_SIZE = 100 * 1024;\n",
              "\n",
              "function _uploadFiles(inputId, outputId) {\n",
              "  const steps = uploadFilesStep(inputId, outputId);\n",
              "  const outputElement = document.getElementById(outputId);\n",
              "  // Cache steps on the outputElement to make it available for the next call\n",
              "  // to uploadFilesContinue from Python.\n",
              "  outputElement.steps = steps;\n",
              "\n",
              "  return _uploadFilesContinue(outputId);\n",
              "}\n",
              "\n",
              "// This is roughly an async generator (not supported in the browser yet),\n",
              "// where there are multiple asynchronous steps and the Python side is going\n",
              "// to poll for completion of each step.\n",
              "// This uses a Promise to block the python side on completion of each step,\n",
              "// then passes the result of the previous step as the input to the next step.\n",
              "function _uploadFilesContinue(outputId) {\n",
              "  const outputElement = document.getElementById(outputId);\n",
              "  const steps = outputElement.steps;\n",
              "\n",
              "  const next = steps.next(outputElement.lastPromiseValue);\n",
              "  return Promise.resolve(next.value.promise).then((value) => {\n",
              "    // Cache the last promise value to make it available to the next\n",
              "    // step of the generator.\n",
              "    outputElement.lastPromiseValue = value;\n",
              "    return next.value.response;\n",
              "  });\n",
              "}\n",
              "\n",
              "/**\n",
              " * Generator function which is called between each async step of the upload\n",
              " * process.\n",
              " * @param {string} inputId Element ID of the input file picker element.\n",
              " * @param {string} outputId Element ID of the output display.\n",
              " * @return {!Iterable<!Object>} Iterable of next steps.\n",
              " */\n",
              "function* uploadFilesStep(inputId, outputId) {\n",
              "  const inputElement = document.getElementById(inputId);\n",
              "  inputElement.disabled = false;\n",
              "\n",
              "  const outputElement = document.getElementById(outputId);\n",
              "  outputElement.innerHTML = '';\n",
              "\n",
              "  const pickedPromise = new Promise((resolve) => {\n",
              "    inputElement.addEventListener('change', (e) => {\n",
              "      resolve(e.target.files);\n",
              "    });\n",
              "  });\n",
              "\n",
              "  const cancel = document.createElement('button');\n",
              "  inputElement.parentElement.appendChild(cancel);\n",
              "  cancel.textContent = 'Cancel upload';\n",
              "  const cancelPromise = new Promise((resolve) => {\n",
              "    cancel.onclick = () => {\n",
              "      resolve(null);\n",
              "    };\n",
              "  });\n",
              "\n",
              "  // Wait for the user to pick the files.\n",
              "  const files = yield {\n",
              "    promise: Promise.race([pickedPromise, cancelPromise]),\n",
              "    response: {\n",
              "      action: 'starting',\n",
              "    }\n",
              "  };\n",
              "\n",
              "  cancel.remove();\n",
              "\n",
              "  // Disable the input element since further picks are not allowed.\n",
              "  inputElement.disabled = true;\n",
              "\n",
              "  if (!files) {\n",
              "    return {\n",
              "      response: {\n",
              "        action: 'complete',\n",
              "      }\n",
              "    };\n",
              "  }\n",
              "\n",
              "  for (const file of files) {\n",
              "    const li = document.createElement('li');\n",
              "    li.append(span(file.name, {fontWeight: 'bold'}));\n",
              "    li.append(span(\n",
              "        `(${file.type || 'n/a'}) - ${file.size} bytes, ` +\n",
              "        `last modified: ${\n",
              "            file.lastModifiedDate ? file.lastModifiedDate.toLocaleDateString() :\n",
              "                                    'n/a'} - `));\n",
              "    const percent = span('0% done');\n",
              "    li.appendChild(percent);\n",
              "\n",
              "    outputElement.appendChild(li);\n",
              "\n",
              "    const fileDataPromise = new Promise((resolve) => {\n",
              "      const reader = new FileReader();\n",
              "      reader.onload = (e) => {\n",
              "        resolve(e.target.result);\n",
              "      };\n",
              "      reader.readAsArrayBuffer(file);\n",
              "    });\n",
              "    // Wait for the data to be ready.\n",
              "    let fileData = yield {\n",
              "      promise: fileDataPromise,\n",
              "      response: {\n",
              "        action: 'continue',\n",
              "      }\n",
              "    };\n",
              "\n",
              "    // Use a chunked sending to avoid message size limits. See b/62115660.\n",
              "    let position = 0;\n",
              "    do {\n",
              "      const length = Math.min(fileData.byteLength - position, MAX_PAYLOAD_SIZE);\n",
              "      const chunk = new Uint8Array(fileData, position, length);\n",
              "      position += length;\n",
              "\n",
              "      const base64 = btoa(String.fromCharCode.apply(null, chunk));\n",
              "      yield {\n",
              "        response: {\n",
              "          action: 'append',\n",
              "          file: file.name,\n",
              "          data: base64,\n",
              "        },\n",
              "      };\n",
              "\n",
              "      let percentDone = fileData.byteLength === 0 ?\n",
              "          100 :\n",
              "          Math.round((position / fileData.byteLength) * 100);\n",
              "      percent.textContent = `${percentDone}% done`;\n",
              "\n",
              "    } while (position < fileData.byteLength);\n",
              "  }\n",
              "\n",
              "  // All done.\n",
              "  yield {\n",
              "    response: {\n",
              "      action: 'complete',\n",
              "    }\n",
              "  };\n",
              "}\n",
              "\n",
              "scope.google = scope.google || {};\n",
              "scope.google.colab = scope.google.colab || {};\n",
              "scope.google.colab._files = {\n",
              "  _uploadFiles,\n",
              "  _uploadFilesContinue,\n",
              "};\n",
              "})(self);\n",
              "</script> "
            ]
          },
          "metadata": {}
        },
        {
          "output_type": "stream",
          "name": "stdout",
          "text": [
            "Saving kaggle (1).json to kaggle (1).json\n"
          ]
        },
        {
          "output_type": "execute_result",
          "data": {
            "text/plain": [
              "{'kaggle (1).json': b'{\"username\":\"arifansuri\",\"key\":\"d3981188f1dc2bffbb2c07769fc846b0\"}'}"
            ]
          },
          "metadata": {},
          "execution_count": 1
        }
      ]
    },
    {
      "cell_type": "code",
      "source": [
        "# Import dataset dari kaggle\n",
        "!kaggle datasets download -d bhanupratapbiswas/fashion-products -p /content/\n",
        "\n",
        "# Ekstrak file yang sudah diunduh\n",
        "!unzip fashion-products.zip"
      ],
      "metadata": {
        "colab": {
          "base_uri": "https://localhost:8080/"
        },
        "id": "KfPwMAEgb8Lv",
        "outputId": "13d177ca-c494-4d50-a68c-610349be6376"
      },
      "execution_count": null,
      "outputs": [
        {
          "output_type": "stream",
          "name": "stdout",
          "text": [
            "Dataset URL: https://www.kaggle.com/datasets/bhanupratapbiswas/fashion-products\n",
            "License(s): other\n",
            "Downloading fashion-products.zip to /content\n",
            "  0% 0.00/19.7k [00:00<?, ?B/s]\n",
            "100% 19.7k/19.7k [00:00<00:00, 37.5MB/s]\n",
            "Archive:  fashion-products.zip\n",
            "  inflating: fashion_products.csv    \n"
          ]
        }
      ]
    },
    {
      "cell_type": "markdown",
      "source": [
        "## Data Understanding"
      ],
      "metadata": {
        "id": "jTitP72zv4rZ"
      }
    },
    {
      "cell_type": "markdown",
      "metadata": {
        "id": "HHekw29KX4XQ"
      },
      "source": [
        "## Data Loading"
      ]
    },
    {
      "cell_type": "markdown",
      "source": [
        "Memuat data yang telah diekstrak dan melakukan assign ke variabel baru bernama df."
      ],
      "metadata": {
        "id": "HKzSngdWh2PU"
      }
    },
    {
      "cell_type": "code",
      "execution_count": null,
      "metadata": {
        "id": "wIcv1F9fX4XQ"
      },
      "outputs": [],
      "source": [
        "# Memuat dataset yang sudah dipersiapkan\n",
        "df = pd.read_csv('/content/fashion_products.csv')"
      ]
    },
    {
      "cell_type": "code",
      "source": [
        "# Memastikan header dan 5 baris teratas dataset\n",
        "df.head()"
      ],
      "metadata": {
        "colab": {
          "base_uri": "https://localhost:8080/",
          "height": 206
        },
        "id": "9AZOXmVhkBGX",
        "outputId": "aa24bf29-d7e0-41e0-bac5-1b5375a2b3c3"
      },
      "execution_count": null,
      "outputs": [
        {
          "output_type": "execute_result",
          "data": {
            "text/plain": [
              "   User ID  Product ID Product Name   Brand         Category  Price    Rating  \\\n",
              "0       19           1        Dress  Adidas    Men's Fashion     40  1.043159   \n",
              "1       97           2        Shoes     H&M  Women's Fashion     82  4.026416   \n",
              "2       25           3        Dress  Adidas  Women's Fashion     44  3.337938   \n",
              "3       57           4        Shoes    Zara    Men's Fashion     23  1.049523   \n",
              "4       79           5      T-shirt  Adidas    Men's Fashion     79  4.302773   \n",
              "\n",
              "    Color Size  \n",
              "0   Black   XL  \n",
              "1   Black    L  \n",
              "2  Yellow   XL  \n",
              "3   White    S  \n",
              "4   Black    M  "
            ],
            "text/html": [
              "\n",
              "  <div id=\"df-7f73612c-8bd0-4368-968a-e8265b8ca372\" class=\"colab-df-container\">\n",
              "    <div>\n",
              "<style scoped>\n",
              "    .dataframe tbody tr th:only-of-type {\n",
              "        vertical-align: middle;\n",
              "    }\n",
              "\n",
              "    .dataframe tbody tr th {\n",
              "        vertical-align: top;\n",
              "    }\n",
              "\n",
              "    .dataframe thead th {\n",
              "        text-align: right;\n",
              "    }\n",
              "</style>\n",
              "<table border=\"1\" class=\"dataframe\">\n",
              "  <thead>\n",
              "    <tr style=\"text-align: right;\">\n",
              "      <th></th>\n",
              "      <th>User ID</th>\n",
              "      <th>Product ID</th>\n",
              "      <th>Product Name</th>\n",
              "      <th>Brand</th>\n",
              "      <th>Category</th>\n",
              "      <th>Price</th>\n",
              "      <th>Rating</th>\n",
              "      <th>Color</th>\n",
              "      <th>Size</th>\n",
              "    </tr>\n",
              "  </thead>\n",
              "  <tbody>\n",
              "    <tr>\n",
              "      <th>0</th>\n",
              "      <td>19</td>\n",
              "      <td>1</td>\n",
              "      <td>Dress</td>\n",
              "      <td>Adidas</td>\n",
              "      <td>Men's Fashion</td>\n",
              "      <td>40</td>\n",
              "      <td>1.043159</td>\n",
              "      <td>Black</td>\n",
              "      <td>XL</td>\n",
              "    </tr>\n",
              "    <tr>\n",
              "      <th>1</th>\n",
              "      <td>97</td>\n",
              "      <td>2</td>\n",
              "      <td>Shoes</td>\n",
              "      <td>H&amp;M</td>\n",
              "      <td>Women's Fashion</td>\n",
              "      <td>82</td>\n",
              "      <td>4.026416</td>\n",
              "      <td>Black</td>\n",
              "      <td>L</td>\n",
              "    </tr>\n",
              "    <tr>\n",
              "      <th>2</th>\n",
              "      <td>25</td>\n",
              "      <td>3</td>\n",
              "      <td>Dress</td>\n",
              "      <td>Adidas</td>\n",
              "      <td>Women's Fashion</td>\n",
              "      <td>44</td>\n",
              "      <td>3.337938</td>\n",
              "      <td>Yellow</td>\n",
              "      <td>XL</td>\n",
              "    </tr>\n",
              "    <tr>\n",
              "      <th>3</th>\n",
              "      <td>57</td>\n",
              "      <td>4</td>\n",
              "      <td>Shoes</td>\n",
              "      <td>Zara</td>\n",
              "      <td>Men's Fashion</td>\n",
              "      <td>23</td>\n",
              "      <td>1.049523</td>\n",
              "      <td>White</td>\n",
              "      <td>S</td>\n",
              "    </tr>\n",
              "    <tr>\n",
              "      <th>4</th>\n",
              "      <td>79</td>\n",
              "      <td>5</td>\n",
              "      <td>T-shirt</td>\n",
              "      <td>Adidas</td>\n",
              "      <td>Men's Fashion</td>\n",
              "      <td>79</td>\n",
              "      <td>4.302773</td>\n",
              "      <td>Black</td>\n",
              "      <td>M</td>\n",
              "    </tr>\n",
              "  </tbody>\n",
              "</table>\n",
              "</div>\n",
              "    <div class=\"colab-df-buttons\">\n",
              "\n",
              "  <div class=\"colab-df-container\">\n",
              "    <button class=\"colab-df-convert\" onclick=\"convertToInteractive('df-7f73612c-8bd0-4368-968a-e8265b8ca372')\"\n",
              "            title=\"Convert this dataframe to an interactive table.\"\n",
              "            style=\"display:none;\">\n",
              "\n",
              "  <svg xmlns=\"http://www.w3.org/2000/svg\" height=\"24px\" viewBox=\"0 -960 960 960\">\n",
              "    <path d=\"M120-120v-720h720v720H120Zm60-500h600v-160H180v160Zm220 220h160v-160H400v160Zm0 220h160v-160H400v160ZM180-400h160v-160H180v160Zm440 0h160v-160H620v160ZM180-180h160v-160H180v160Zm440 0h160v-160H620v160Z\"/>\n",
              "  </svg>\n",
              "    </button>\n",
              "\n",
              "  <style>\n",
              "    .colab-df-container {\n",
              "      display:flex;\n",
              "      gap: 12px;\n",
              "    }\n",
              "\n",
              "    .colab-df-convert {\n",
              "      background-color: #E8F0FE;\n",
              "      border: none;\n",
              "      border-radius: 50%;\n",
              "      cursor: pointer;\n",
              "      display: none;\n",
              "      fill: #1967D2;\n",
              "      height: 32px;\n",
              "      padding: 0 0 0 0;\n",
              "      width: 32px;\n",
              "    }\n",
              "\n",
              "    .colab-df-convert:hover {\n",
              "      background-color: #E2EBFA;\n",
              "      box-shadow: 0px 1px 2px rgba(60, 64, 67, 0.3), 0px 1px 3px 1px rgba(60, 64, 67, 0.15);\n",
              "      fill: #174EA6;\n",
              "    }\n",
              "\n",
              "    .colab-df-buttons div {\n",
              "      margin-bottom: 4px;\n",
              "    }\n",
              "\n",
              "    [theme=dark] .colab-df-convert {\n",
              "      background-color: #3B4455;\n",
              "      fill: #D2E3FC;\n",
              "    }\n",
              "\n",
              "    [theme=dark] .colab-df-convert:hover {\n",
              "      background-color: #434B5C;\n",
              "      box-shadow: 0px 1px 3px 1px rgba(0, 0, 0, 0.15);\n",
              "      filter: drop-shadow(0px 1px 2px rgba(0, 0, 0, 0.3));\n",
              "      fill: #FFFFFF;\n",
              "    }\n",
              "  </style>\n",
              "\n",
              "    <script>\n",
              "      const buttonEl =\n",
              "        document.querySelector('#df-7f73612c-8bd0-4368-968a-e8265b8ca372 button.colab-df-convert');\n",
              "      buttonEl.style.display =\n",
              "        google.colab.kernel.accessAllowed ? 'block' : 'none';\n",
              "\n",
              "      async function convertToInteractive(key) {\n",
              "        const element = document.querySelector('#df-7f73612c-8bd0-4368-968a-e8265b8ca372');\n",
              "        const dataTable =\n",
              "          await google.colab.kernel.invokeFunction('convertToInteractive',\n",
              "                                                    [key], {});\n",
              "        if (!dataTable) return;\n",
              "\n",
              "        const docLinkHtml = 'Like what you see? Visit the ' +\n",
              "          '<a target=\"_blank\" href=https://colab.research.google.com/notebooks/data_table.ipynb>data table notebook</a>'\n",
              "          + ' to learn more about interactive tables.';\n",
              "        element.innerHTML = '';\n",
              "        dataTable['output_type'] = 'display_data';\n",
              "        await google.colab.output.renderOutput(dataTable, element);\n",
              "        const docLink = document.createElement('div');\n",
              "        docLink.innerHTML = docLinkHtml;\n",
              "        element.appendChild(docLink);\n",
              "      }\n",
              "    </script>\n",
              "  </div>\n",
              "\n",
              "\n",
              "<div id=\"df-f8a81f95-f6c8-4b9e-9165-d9f30b69d4ae\">\n",
              "  <button class=\"colab-df-quickchart\" onclick=\"quickchart('df-f8a81f95-f6c8-4b9e-9165-d9f30b69d4ae')\"\n",
              "            title=\"Suggest charts\"\n",
              "            style=\"display:none;\">\n",
              "\n",
              "<svg xmlns=\"http://www.w3.org/2000/svg\" height=\"24px\"viewBox=\"0 0 24 24\"\n",
              "     width=\"24px\">\n",
              "    <g>\n",
              "        <path d=\"M19 3H5c-1.1 0-2 .9-2 2v14c0 1.1.9 2 2 2h14c1.1 0 2-.9 2-2V5c0-1.1-.9-2-2-2zM9 17H7v-7h2v7zm4 0h-2V7h2v10zm4 0h-2v-4h2v4z\"/>\n",
              "    </g>\n",
              "</svg>\n",
              "  </button>\n",
              "\n",
              "<style>\n",
              "  .colab-df-quickchart {\n",
              "      --bg-color: #E8F0FE;\n",
              "      --fill-color: #1967D2;\n",
              "      --hover-bg-color: #E2EBFA;\n",
              "      --hover-fill-color: #174EA6;\n",
              "      --disabled-fill-color: #AAA;\n",
              "      --disabled-bg-color: #DDD;\n",
              "  }\n",
              "\n",
              "  [theme=dark] .colab-df-quickchart {\n",
              "      --bg-color: #3B4455;\n",
              "      --fill-color: #D2E3FC;\n",
              "      --hover-bg-color: #434B5C;\n",
              "      --hover-fill-color: #FFFFFF;\n",
              "      --disabled-bg-color: #3B4455;\n",
              "      --disabled-fill-color: #666;\n",
              "  }\n",
              "\n",
              "  .colab-df-quickchart {\n",
              "    background-color: var(--bg-color);\n",
              "    border: none;\n",
              "    border-radius: 50%;\n",
              "    cursor: pointer;\n",
              "    display: none;\n",
              "    fill: var(--fill-color);\n",
              "    height: 32px;\n",
              "    padding: 0;\n",
              "    width: 32px;\n",
              "  }\n",
              "\n",
              "  .colab-df-quickchart:hover {\n",
              "    background-color: var(--hover-bg-color);\n",
              "    box-shadow: 0 1px 2px rgba(60, 64, 67, 0.3), 0 1px 3px 1px rgba(60, 64, 67, 0.15);\n",
              "    fill: var(--button-hover-fill-color);\n",
              "  }\n",
              "\n",
              "  .colab-df-quickchart-complete:disabled,\n",
              "  .colab-df-quickchart-complete:disabled:hover {\n",
              "    background-color: var(--disabled-bg-color);\n",
              "    fill: var(--disabled-fill-color);\n",
              "    box-shadow: none;\n",
              "  }\n",
              "\n",
              "  .colab-df-spinner {\n",
              "    border: 2px solid var(--fill-color);\n",
              "    border-color: transparent;\n",
              "    border-bottom-color: var(--fill-color);\n",
              "    animation:\n",
              "      spin 1s steps(1) infinite;\n",
              "  }\n",
              "\n",
              "  @keyframes spin {\n",
              "    0% {\n",
              "      border-color: transparent;\n",
              "      border-bottom-color: var(--fill-color);\n",
              "      border-left-color: var(--fill-color);\n",
              "    }\n",
              "    20% {\n",
              "      border-color: transparent;\n",
              "      border-left-color: var(--fill-color);\n",
              "      border-top-color: var(--fill-color);\n",
              "    }\n",
              "    30% {\n",
              "      border-color: transparent;\n",
              "      border-left-color: var(--fill-color);\n",
              "      border-top-color: var(--fill-color);\n",
              "      border-right-color: var(--fill-color);\n",
              "    }\n",
              "    40% {\n",
              "      border-color: transparent;\n",
              "      border-right-color: var(--fill-color);\n",
              "      border-top-color: var(--fill-color);\n",
              "    }\n",
              "    60% {\n",
              "      border-color: transparent;\n",
              "      border-right-color: var(--fill-color);\n",
              "    }\n",
              "    80% {\n",
              "      border-color: transparent;\n",
              "      border-right-color: var(--fill-color);\n",
              "      border-bottom-color: var(--fill-color);\n",
              "    }\n",
              "    90% {\n",
              "      border-color: transparent;\n",
              "      border-bottom-color: var(--fill-color);\n",
              "    }\n",
              "  }\n",
              "</style>\n",
              "\n",
              "  <script>\n",
              "    async function quickchart(key) {\n",
              "      const quickchartButtonEl =\n",
              "        document.querySelector('#' + key + ' button');\n",
              "      quickchartButtonEl.disabled = true;  // To prevent multiple clicks.\n",
              "      quickchartButtonEl.classList.add('colab-df-spinner');\n",
              "      try {\n",
              "        const charts = await google.colab.kernel.invokeFunction(\n",
              "            'suggestCharts', [key], {});\n",
              "      } catch (error) {\n",
              "        console.error('Error during call to suggestCharts:', error);\n",
              "      }\n",
              "      quickchartButtonEl.classList.remove('colab-df-spinner');\n",
              "      quickchartButtonEl.classList.add('colab-df-quickchart-complete');\n",
              "    }\n",
              "    (() => {\n",
              "      let quickchartButtonEl =\n",
              "        document.querySelector('#df-f8a81f95-f6c8-4b9e-9165-d9f30b69d4ae button');\n",
              "      quickchartButtonEl.style.display =\n",
              "        google.colab.kernel.accessAllowed ? 'block' : 'none';\n",
              "    })();\n",
              "  </script>\n",
              "</div>\n",
              "\n",
              "    </div>\n",
              "  </div>\n"
            ],
            "application/vnd.google.colaboratory.intrinsic+json": {
              "type": "dataframe",
              "variable_name": "df",
              "summary": "{\n  \"name\": \"df\",\n  \"rows\": 1000,\n  \"fields\": [\n    {\n      \"column\": \"User ID\",\n      \"properties\": {\n        \"dtype\": \"number\",\n        \"std\": 28,\n        \"min\": 1,\n        \"max\": 100,\n        \"num_unique_values\": 100,\n        \"samples\": [\n          55,\n          4,\n          29\n        ],\n        \"semantic_type\": \"\",\n        \"description\": \"\"\n      }\n    },\n    {\n      \"column\": \"Product ID\",\n      \"properties\": {\n        \"dtype\": \"number\",\n        \"std\": 288,\n        \"min\": 1,\n        \"max\": 1000,\n        \"num_unique_values\": 1000,\n        \"samples\": [\n          522,\n          738,\n          741\n        ],\n        \"semantic_type\": \"\",\n        \"description\": \"\"\n      }\n    },\n    {\n      \"column\": \"Product Name\",\n      \"properties\": {\n        \"dtype\": \"category\",\n        \"num_unique_values\": 5,\n        \"samples\": [\n          \"Shoes\",\n          \"Sweater\",\n          \"T-shirt\"\n        ],\n        \"semantic_type\": \"\",\n        \"description\": \"\"\n      }\n    },\n    {\n      \"column\": \"Brand\",\n      \"properties\": {\n        \"dtype\": \"category\",\n        \"num_unique_values\": 5,\n        \"samples\": [\n          \"H&M\",\n          \"Nike\",\n          \"Zara\"\n        ],\n        \"semantic_type\": \"\",\n        \"description\": \"\"\n      }\n    },\n    {\n      \"column\": \"Category\",\n      \"properties\": {\n        \"dtype\": \"category\",\n        \"num_unique_values\": 3,\n        \"samples\": [\n          \"Men's Fashion\",\n          \"Women's Fashion\",\n          \"Kids' Fashion\"\n        ],\n        \"semantic_type\": \"\",\n        \"description\": \"\"\n      }\n    },\n    {\n      \"column\": \"Price\",\n      \"properties\": {\n        \"dtype\": \"number\",\n        \"std\": 26,\n        \"min\": 10,\n        \"max\": 100,\n        \"num_unique_values\": 91,\n        \"samples\": [\n          59,\n          21,\n          42\n        ],\n        \"semantic_type\": \"\",\n        \"description\": \"\"\n      }\n    },\n    {\n      \"column\": \"Rating\",\n      \"properties\": {\n        \"dtype\": \"number\",\n        \"std\": 1.153185443646673,\n        \"min\": 1.000967235428064,\n        \"max\": 4.987964320970842,\n        \"num_unique_values\": 1000,\n        \"samples\": [\n          2.9390797234183057,\n          1.0338431929963692,\n          3.3868368182647823\n        ],\n        \"semantic_type\": \"\",\n        \"description\": \"\"\n      }\n    },\n    {\n      \"column\": \"Color\",\n      \"properties\": {\n        \"dtype\": \"category\",\n        \"num_unique_values\": 6,\n        \"samples\": [\n          \"Black\",\n          \"Yellow\",\n          \"Red\"\n        ],\n        \"semantic_type\": \"\",\n        \"description\": \"\"\n      }\n    },\n    {\n      \"column\": \"Size\",\n      \"properties\": {\n        \"dtype\": \"category\",\n        \"num_unique_values\": 4,\n        \"samples\": [\n          \"L\",\n          \"M\",\n          \"XL\"\n        ],\n        \"semantic_type\": \"\",\n        \"description\": \"\"\n      }\n    }\n  ]\n}"
            }
          },
          "metadata": {},
          "execution_count": 4
        }
      ]
    },
    {
      "cell_type": "code",
      "source": [
        "# Memastikan header dan 5 baris dataset teratas-tertabawah\n",
        "df"
      ],
      "metadata": {
        "colab": {
          "base_uri": "https://localhost:8080/",
          "height": 424
        },
        "id": "fmvFVRArh8DI",
        "outputId": "726c7aad-ca32-40da-a31a-04d620bccaf2"
      },
      "execution_count": null,
      "outputs": [
        {
          "output_type": "execute_result",
          "data": {
            "text/plain": [
              "     User ID  Product ID Product Name   Brand         Category  Price  \\\n",
              "0         19           1        Dress  Adidas    Men's Fashion     40   \n",
              "1         97           2        Shoes     H&M  Women's Fashion     82   \n",
              "2         25           3        Dress  Adidas  Women's Fashion     44   \n",
              "3         57           4        Shoes    Zara    Men's Fashion     23   \n",
              "4         79           5      T-shirt  Adidas    Men's Fashion     79   \n",
              "..       ...         ...          ...     ...              ...    ...   \n",
              "995       20         996        Shoes    Zara  Women's Fashion     55   \n",
              "996       42         997      Sweater    Nike    Kids' Fashion     13   \n",
              "997        9         998      Sweater    Zara    Men's Fashion     47   \n",
              "998        8         999      T-shirt    Zara  Women's Fashion     68   \n",
              "999       91        1000        Shoes  Adidas  Women's Fashion     79   \n",
              "\n",
              "       Rating   Color Size  \n",
              "0    1.043159   Black   XL  \n",
              "1    4.026416   Black    L  \n",
              "2    3.337938  Yellow   XL  \n",
              "3    1.049523   White    S  \n",
              "4    4.302773   Black    M  \n",
              "..        ...     ...  ...  \n",
              "995  1.620081   Black    M  \n",
              "996  1.544464   Green    L  \n",
              "997  3.961913   White    L  \n",
              "998  3.089722    Blue    S  \n",
              "999  3.093553   White    L  \n",
              "\n",
              "[1000 rows x 9 columns]"
            ],
            "text/html": [
              "\n",
              "  <div id=\"df-636e37b6-a9e5-4707-bb35-18bcc5e65ff6\" class=\"colab-df-container\">\n",
              "    <div>\n",
              "<style scoped>\n",
              "    .dataframe tbody tr th:only-of-type {\n",
              "        vertical-align: middle;\n",
              "    }\n",
              "\n",
              "    .dataframe tbody tr th {\n",
              "        vertical-align: top;\n",
              "    }\n",
              "\n",
              "    .dataframe thead th {\n",
              "        text-align: right;\n",
              "    }\n",
              "</style>\n",
              "<table border=\"1\" class=\"dataframe\">\n",
              "  <thead>\n",
              "    <tr style=\"text-align: right;\">\n",
              "      <th></th>\n",
              "      <th>User ID</th>\n",
              "      <th>Product ID</th>\n",
              "      <th>Product Name</th>\n",
              "      <th>Brand</th>\n",
              "      <th>Category</th>\n",
              "      <th>Price</th>\n",
              "      <th>Rating</th>\n",
              "      <th>Color</th>\n",
              "      <th>Size</th>\n",
              "    </tr>\n",
              "  </thead>\n",
              "  <tbody>\n",
              "    <tr>\n",
              "      <th>0</th>\n",
              "      <td>19</td>\n",
              "      <td>1</td>\n",
              "      <td>Dress</td>\n",
              "      <td>Adidas</td>\n",
              "      <td>Men's Fashion</td>\n",
              "      <td>40</td>\n",
              "      <td>1.043159</td>\n",
              "      <td>Black</td>\n",
              "      <td>XL</td>\n",
              "    </tr>\n",
              "    <tr>\n",
              "      <th>1</th>\n",
              "      <td>97</td>\n",
              "      <td>2</td>\n",
              "      <td>Shoes</td>\n",
              "      <td>H&amp;M</td>\n",
              "      <td>Women's Fashion</td>\n",
              "      <td>82</td>\n",
              "      <td>4.026416</td>\n",
              "      <td>Black</td>\n",
              "      <td>L</td>\n",
              "    </tr>\n",
              "    <tr>\n",
              "      <th>2</th>\n",
              "      <td>25</td>\n",
              "      <td>3</td>\n",
              "      <td>Dress</td>\n",
              "      <td>Adidas</td>\n",
              "      <td>Women's Fashion</td>\n",
              "      <td>44</td>\n",
              "      <td>3.337938</td>\n",
              "      <td>Yellow</td>\n",
              "      <td>XL</td>\n",
              "    </tr>\n",
              "    <tr>\n",
              "      <th>3</th>\n",
              "      <td>57</td>\n",
              "      <td>4</td>\n",
              "      <td>Shoes</td>\n",
              "      <td>Zara</td>\n",
              "      <td>Men's Fashion</td>\n",
              "      <td>23</td>\n",
              "      <td>1.049523</td>\n",
              "      <td>White</td>\n",
              "      <td>S</td>\n",
              "    </tr>\n",
              "    <tr>\n",
              "      <th>4</th>\n",
              "      <td>79</td>\n",
              "      <td>5</td>\n",
              "      <td>T-shirt</td>\n",
              "      <td>Adidas</td>\n",
              "      <td>Men's Fashion</td>\n",
              "      <td>79</td>\n",
              "      <td>4.302773</td>\n",
              "      <td>Black</td>\n",
              "      <td>M</td>\n",
              "    </tr>\n",
              "    <tr>\n",
              "      <th>...</th>\n",
              "      <td>...</td>\n",
              "      <td>...</td>\n",
              "      <td>...</td>\n",
              "      <td>...</td>\n",
              "      <td>...</td>\n",
              "      <td>...</td>\n",
              "      <td>...</td>\n",
              "      <td>...</td>\n",
              "      <td>...</td>\n",
              "    </tr>\n",
              "    <tr>\n",
              "      <th>995</th>\n",
              "      <td>20</td>\n",
              "      <td>996</td>\n",
              "      <td>Shoes</td>\n",
              "      <td>Zara</td>\n",
              "      <td>Women's Fashion</td>\n",
              "      <td>55</td>\n",
              "      <td>1.620081</td>\n",
              "      <td>Black</td>\n",
              "      <td>M</td>\n",
              "    </tr>\n",
              "    <tr>\n",
              "      <th>996</th>\n",
              "      <td>42</td>\n",
              "      <td>997</td>\n",
              "      <td>Sweater</td>\n",
              "      <td>Nike</td>\n",
              "      <td>Kids' Fashion</td>\n",
              "      <td>13</td>\n",
              "      <td>1.544464</td>\n",
              "      <td>Green</td>\n",
              "      <td>L</td>\n",
              "    </tr>\n",
              "    <tr>\n",
              "      <th>997</th>\n",
              "      <td>9</td>\n",
              "      <td>998</td>\n",
              "      <td>Sweater</td>\n",
              "      <td>Zara</td>\n",
              "      <td>Men's Fashion</td>\n",
              "      <td>47</td>\n",
              "      <td>3.961913</td>\n",
              "      <td>White</td>\n",
              "      <td>L</td>\n",
              "    </tr>\n",
              "    <tr>\n",
              "      <th>998</th>\n",
              "      <td>8</td>\n",
              "      <td>999</td>\n",
              "      <td>T-shirt</td>\n",
              "      <td>Zara</td>\n",
              "      <td>Women's Fashion</td>\n",
              "      <td>68</td>\n",
              "      <td>3.089722</td>\n",
              "      <td>Blue</td>\n",
              "      <td>S</td>\n",
              "    </tr>\n",
              "    <tr>\n",
              "      <th>999</th>\n",
              "      <td>91</td>\n",
              "      <td>1000</td>\n",
              "      <td>Shoes</td>\n",
              "      <td>Adidas</td>\n",
              "      <td>Women's Fashion</td>\n",
              "      <td>79</td>\n",
              "      <td>3.093553</td>\n",
              "      <td>White</td>\n",
              "      <td>L</td>\n",
              "    </tr>\n",
              "  </tbody>\n",
              "</table>\n",
              "<p>1000 rows × 9 columns</p>\n",
              "</div>\n",
              "    <div class=\"colab-df-buttons\">\n",
              "\n",
              "  <div class=\"colab-df-container\">\n",
              "    <button class=\"colab-df-convert\" onclick=\"convertToInteractive('df-636e37b6-a9e5-4707-bb35-18bcc5e65ff6')\"\n",
              "            title=\"Convert this dataframe to an interactive table.\"\n",
              "            style=\"display:none;\">\n",
              "\n",
              "  <svg xmlns=\"http://www.w3.org/2000/svg\" height=\"24px\" viewBox=\"0 -960 960 960\">\n",
              "    <path d=\"M120-120v-720h720v720H120Zm60-500h600v-160H180v160Zm220 220h160v-160H400v160Zm0 220h160v-160H400v160ZM180-400h160v-160H180v160Zm440 0h160v-160H620v160ZM180-180h160v-160H180v160Zm440 0h160v-160H620v160Z\"/>\n",
              "  </svg>\n",
              "    </button>\n",
              "\n",
              "  <style>\n",
              "    .colab-df-container {\n",
              "      display:flex;\n",
              "      gap: 12px;\n",
              "    }\n",
              "\n",
              "    .colab-df-convert {\n",
              "      background-color: #E8F0FE;\n",
              "      border: none;\n",
              "      border-radius: 50%;\n",
              "      cursor: pointer;\n",
              "      display: none;\n",
              "      fill: #1967D2;\n",
              "      height: 32px;\n",
              "      padding: 0 0 0 0;\n",
              "      width: 32px;\n",
              "    }\n",
              "\n",
              "    .colab-df-convert:hover {\n",
              "      background-color: #E2EBFA;\n",
              "      box-shadow: 0px 1px 2px rgba(60, 64, 67, 0.3), 0px 1px 3px 1px rgba(60, 64, 67, 0.15);\n",
              "      fill: #174EA6;\n",
              "    }\n",
              "\n",
              "    .colab-df-buttons div {\n",
              "      margin-bottom: 4px;\n",
              "    }\n",
              "\n",
              "    [theme=dark] .colab-df-convert {\n",
              "      background-color: #3B4455;\n",
              "      fill: #D2E3FC;\n",
              "    }\n",
              "\n",
              "    [theme=dark] .colab-df-convert:hover {\n",
              "      background-color: #434B5C;\n",
              "      box-shadow: 0px 1px 3px 1px rgba(0, 0, 0, 0.15);\n",
              "      filter: drop-shadow(0px 1px 2px rgba(0, 0, 0, 0.3));\n",
              "      fill: #FFFFFF;\n",
              "    }\n",
              "  </style>\n",
              "\n",
              "    <script>\n",
              "      const buttonEl =\n",
              "        document.querySelector('#df-636e37b6-a9e5-4707-bb35-18bcc5e65ff6 button.colab-df-convert');\n",
              "      buttonEl.style.display =\n",
              "        google.colab.kernel.accessAllowed ? 'block' : 'none';\n",
              "\n",
              "      async function convertToInteractive(key) {\n",
              "        const element = document.querySelector('#df-636e37b6-a9e5-4707-bb35-18bcc5e65ff6');\n",
              "        const dataTable =\n",
              "          await google.colab.kernel.invokeFunction('convertToInteractive',\n",
              "                                                    [key], {});\n",
              "        if (!dataTable) return;\n",
              "\n",
              "        const docLinkHtml = 'Like what you see? Visit the ' +\n",
              "          '<a target=\"_blank\" href=https://colab.research.google.com/notebooks/data_table.ipynb>data table notebook</a>'\n",
              "          + ' to learn more about interactive tables.';\n",
              "        element.innerHTML = '';\n",
              "        dataTable['output_type'] = 'display_data';\n",
              "        await google.colab.output.renderOutput(dataTable, element);\n",
              "        const docLink = document.createElement('div');\n",
              "        docLink.innerHTML = docLinkHtml;\n",
              "        element.appendChild(docLink);\n",
              "      }\n",
              "    </script>\n",
              "  </div>\n",
              "\n",
              "\n",
              "<div id=\"df-f36c2b11-0160-43fe-be07-b08f0bb976c5\">\n",
              "  <button class=\"colab-df-quickchart\" onclick=\"quickchart('df-f36c2b11-0160-43fe-be07-b08f0bb976c5')\"\n",
              "            title=\"Suggest charts\"\n",
              "            style=\"display:none;\">\n",
              "\n",
              "<svg xmlns=\"http://www.w3.org/2000/svg\" height=\"24px\"viewBox=\"0 0 24 24\"\n",
              "     width=\"24px\">\n",
              "    <g>\n",
              "        <path d=\"M19 3H5c-1.1 0-2 .9-2 2v14c0 1.1.9 2 2 2h14c1.1 0 2-.9 2-2V5c0-1.1-.9-2-2-2zM9 17H7v-7h2v7zm4 0h-2V7h2v10zm4 0h-2v-4h2v4z\"/>\n",
              "    </g>\n",
              "</svg>\n",
              "  </button>\n",
              "\n",
              "<style>\n",
              "  .colab-df-quickchart {\n",
              "      --bg-color: #E8F0FE;\n",
              "      --fill-color: #1967D2;\n",
              "      --hover-bg-color: #E2EBFA;\n",
              "      --hover-fill-color: #174EA6;\n",
              "      --disabled-fill-color: #AAA;\n",
              "      --disabled-bg-color: #DDD;\n",
              "  }\n",
              "\n",
              "  [theme=dark] .colab-df-quickchart {\n",
              "      --bg-color: #3B4455;\n",
              "      --fill-color: #D2E3FC;\n",
              "      --hover-bg-color: #434B5C;\n",
              "      --hover-fill-color: #FFFFFF;\n",
              "      --disabled-bg-color: #3B4455;\n",
              "      --disabled-fill-color: #666;\n",
              "  }\n",
              "\n",
              "  .colab-df-quickchart {\n",
              "    background-color: var(--bg-color);\n",
              "    border: none;\n",
              "    border-radius: 50%;\n",
              "    cursor: pointer;\n",
              "    display: none;\n",
              "    fill: var(--fill-color);\n",
              "    height: 32px;\n",
              "    padding: 0;\n",
              "    width: 32px;\n",
              "  }\n",
              "\n",
              "  .colab-df-quickchart:hover {\n",
              "    background-color: var(--hover-bg-color);\n",
              "    box-shadow: 0 1px 2px rgba(60, 64, 67, 0.3), 0 1px 3px 1px rgba(60, 64, 67, 0.15);\n",
              "    fill: var(--button-hover-fill-color);\n",
              "  }\n",
              "\n",
              "  .colab-df-quickchart-complete:disabled,\n",
              "  .colab-df-quickchart-complete:disabled:hover {\n",
              "    background-color: var(--disabled-bg-color);\n",
              "    fill: var(--disabled-fill-color);\n",
              "    box-shadow: none;\n",
              "  }\n",
              "\n",
              "  .colab-df-spinner {\n",
              "    border: 2px solid var(--fill-color);\n",
              "    border-color: transparent;\n",
              "    border-bottom-color: var(--fill-color);\n",
              "    animation:\n",
              "      spin 1s steps(1) infinite;\n",
              "  }\n",
              "\n",
              "  @keyframes spin {\n",
              "    0% {\n",
              "      border-color: transparent;\n",
              "      border-bottom-color: var(--fill-color);\n",
              "      border-left-color: var(--fill-color);\n",
              "    }\n",
              "    20% {\n",
              "      border-color: transparent;\n",
              "      border-left-color: var(--fill-color);\n",
              "      border-top-color: var(--fill-color);\n",
              "    }\n",
              "    30% {\n",
              "      border-color: transparent;\n",
              "      border-left-color: var(--fill-color);\n",
              "      border-top-color: var(--fill-color);\n",
              "      border-right-color: var(--fill-color);\n",
              "    }\n",
              "    40% {\n",
              "      border-color: transparent;\n",
              "      border-right-color: var(--fill-color);\n",
              "      border-top-color: var(--fill-color);\n",
              "    }\n",
              "    60% {\n",
              "      border-color: transparent;\n",
              "      border-right-color: var(--fill-color);\n",
              "    }\n",
              "    80% {\n",
              "      border-color: transparent;\n",
              "      border-right-color: var(--fill-color);\n",
              "      border-bottom-color: var(--fill-color);\n",
              "    }\n",
              "    90% {\n",
              "      border-color: transparent;\n",
              "      border-bottom-color: var(--fill-color);\n",
              "    }\n",
              "  }\n",
              "</style>\n",
              "\n",
              "  <script>\n",
              "    async function quickchart(key) {\n",
              "      const quickchartButtonEl =\n",
              "        document.querySelector('#' + key + ' button');\n",
              "      quickchartButtonEl.disabled = true;  // To prevent multiple clicks.\n",
              "      quickchartButtonEl.classList.add('colab-df-spinner');\n",
              "      try {\n",
              "        const charts = await google.colab.kernel.invokeFunction(\n",
              "            'suggestCharts', [key], {});\n",
              "      } catch (error) {\n",
              "        console.error('Error during call to suggestCharts:', error);\n",
              "      }\n",
              "      quickchartButtonEl.classList.remove('colab-df-spinner');\n",
              "      quickchartButtonEl.classList.add('colab-df-quickchart-complete');\n",
              "    }\n",
              "    (() => {\n",
              "      let quickchartButtonEl =\n",
              "        document.querySelector('#df-f36c2b11-0160-43fe-be07-b08f0bb976c5 button');\n",
              "      quickchartButtonEl.style.display =\n",
              "        google.colab.kernel.accessAllowed ? 'block' : 'none';\n",
              "    })();\n",
              "  </script>\n",
              "</div>\n",
              "\n",
              "  <div id=\"id_62ea84ad-eb50-4856-aa34-cf029121fd34\">\n",
              "    <style>\n",
              "      .colab-df-generate {\n",
              "        background-color: #E8F0FE;\n",
              "        border: none;\n",
              "        border-radius: 50%;\n",
              "        cursor: pointer;\n",
              "        display: none;\n",
              "        fill: #1967D2;\n",
              "        height: 32px;\n",
              "        padding: 0 0 0 0;\n",
              "        width: 32px;\n",
              "      }\n",
              "\n",
              "      .colab-df-generate:hover {\n",
              "        background-color: #E2EBFA;\n",
              "        box-shadow: 0px 1px 2px rgba(60, 64, 67, 0.3), 0px 1px 3px 1px rgba(60, 64, 67, 0.15);\n",
              "        fill: #174EA6;\n",
              "      }\n",
              "\n",
              "      [theme=dark] .colab-df-generate {\n",
              "        background-color: #3B4455;\n",
              "        fill: #D2E3FC;\n",
              "      }\n",
              "\n",
              "      [theme=dark] .colab-df-generate:hover {\n",
              "        background-color: #434B5C;\n",
              "        box-shadow: 0px 1px 3px 1px rgba(0, 0, 0, 0.15);\n",
              "        filter: drop-shadow(0px 1px 2px rgba(0, 0, 0, 0.3));\n",
              "        fill: #FFFFFF;\n",
              "      }\n",
              "    </style>\n",
              "    <button class=\"colab-df-generate\" onclick=\"generateWithVariable('df')\"\n",
              "            title=\"Generate code using this dataframe.\"\n",
              "            style=\"display:none;\">\n",
              "\n",
              "  <svg xmlns=\"http://www.w3.org/2000/svg\" height=\"24px\"viewBox=\"0 0 24 24\"\n",
              "       width=\"24px\">\n",
              "    <path d=\"M7,19H8.4L18.45,9,17,7.55,7,17.6ZM5,21V16.75L18.45,3.32a2,2,0,0,1,2.83,0l1.4,1.43a1.91,1.91,0,0,1,.58,1.4,1.91,1.91,0,0,1-.58,1.4L9.25,21ZM18.45,9,17,7.55Zm-12,3A5.31,5.31,0,0,0,4.9,8.1,5.31,5.31,0,0,0,1,6.5,5.31,5.31,0,0,0,4.9,4.9,5.31,5.31,0,0,0,6.5,1,5.31,5.31,0,0,0,8.1,4.9,5.31,5.31,0,0,0,12,6.5,5.46,5.46,0,0,0,6.5,12Z\"/>\n",
              "  </svg>\n",
              "    </button>\n",
              "    <script>\n",
              "      (() => {\n",
              "      const buttonEl =\n",
              "        document.querySelector('#id_62ea84ad-eb50-4856-aa34-cf029121fd34 button.colab-df-generate');\n",
              "      buttonEl.style.display =\n",
              "        google.colab.kernel.accessAllowed ? 'block' : 'none';\n",
              "\n",
              "      buttonEl.onclick = () => {\n",
              "        google.colab.notebook.generateWithVariable('df');\n",
              "      }\n",
              "      })();\n",
              "    </script>\n",
              "  </div>\n",
              "\n",
              "    </div>\n",
              "  </div>\n"
            ],
            "application/vnd.google.colaboratory.intrinsic+json": {
              "type": "dataframe",
              "variable_name": "df",
              "summary": "{\n  \"name\": \"df\",\n  \"rows\": 1000,\n  \"fields\": [\n    {\n      \"column\": \"User ID\",\n      \"properties\": {\n        \"dtype\": \"number\",\n        \"std\": 28,\n        \"min\": 1,\n        \"max\": 100,\n        \"num_unique_values\": 100,\n        \"samples\": [\n          55,\n          4,\n          29\n        ],\n        \"semantic_type\": \"\",\n        \"description\": \"\"\n      }\n    },\n    {\n      \"column\": \"Product ID\",\n      \"properties\": {\n        \"dtype\": \"number\",\n        \"std\": 288,\n        \"min\": 1,\n        \"max\": 1000,\n        \"num_unique_values\": 1000,\n        \"samples\": [\n          522,\n          738,\n          741\n        ],\n        \"semantic_type\": \"\",\n        \"description\": \"\"\n      }\n    },\n    {\n      \"column\": \"Product Name\",\n      \"properties\": {\n        \"dtype\": \"category\",\n        \"num_unique_values\": 5,\n        \"samples\": [\n          \"Shoes\",\n          \"Sweater\",\n          \"T-shirt\"\n        ],\n        \"semantic_type\": \"\",\n        \"description\": \"\"\n      }\n    },\n    {\n      \"column\": \"Brand\",\n      \"properties\": {\n        \"dtype\": \"category\",\n        \"num_unique_values\": 5,\n        \"samples\": [\n          \"H&M\",\n          \"Nike\",\n          \"Zara\"\n        ],\n        \"semantic_type\": \"\",\n        \"description\": \"\"\n      }\n    },\n    {\n      \"column\": \"Category\",\n      \"properties\": {\n        \"dtype\": \"category\",\n        \"num_unique_values\": 3,\n        \"samples\": [\n          \"Men's Fashion\",\n          \"Women's Fashion\",\n          \"Kids' Fashion\"\n        ],\n        \"semantic_type\": \"\",\n        \"description\": \"\"\n      }\n    },\n    {\n      \"column\": \"Price\",\n      \"properties\": {\n        \"dtype\": \"number\",\n        \"std\": 26,\n        \"min\": 10,\n        \"max\": 100,\n        \"num_unique_values\": 91,\n        \"samples\": [\n          59,\n          21,\n          42\n        ],\n        \"semantic_type\": \"\",\n        \"description\": \"\"\n      }\n    },\n    {\n      \"column\": \"Rating\",\n      \"properties\": {\n        \"dtype\": \"number\",\n        \"std\": 1.153185443646673,\n        \"min\": 1.000967235428064,\n        \"max\": 4.987964320970842,\n        \"num_unique_values\": 1000,\n        \"samples\": [\n          2.9390797234183057,\n          1.0338431929963692,\n          3.3868368182647823\n        ],\n        \"semantic_type\": \"\",\n        \"description\": \"\"\n      }\n    },\n    {\n      \"column\": \"Color\",\n      \"properties\": {\n        \"dtype\": \"category\",\n        \"num_unique_values\": 6,\n        \"samples\": [\n          \"Black\",\n          \"Yellow\",\n          \"Red\"\n        ],\n        \"semantic_type\": \"\",\n        \"description\": \"\"\n      }\n    },\n    {\n      \"column\": \"Size\",\n      \"properties\": {\n        \"dtype\": \"category\",\n        \"num_unique_values\": 4,\n        \"samples\": [\n          \"L\",\n          \"M\",\n          \"XL\"\n        ],\n        \"semantic_type\": \"\",\n        \"description\": \"\"\n      }\n    }\n  ]\n}"
            }
          },
          "metadata": {},
          "execution_count": 5
        }
      ]
    },
    {
      "cell_type": "code",
      "source": [
        "# Mengubah nama kolom dengan spasi menjadi underscore\n",
        "df.columns = [col.replace(' ', '_') for col in df.columns]\n",
        "\n",
        "# Menampilkan nama kolom setelah perubahan\n",
        "print(\"Nama kolom setelah perubahan:\")\n",
        "print(df.columns)"
      ],
      "metadata": {
        "colab": {
          "base_uri": "https://localhost:8080/"
        },
        "id": "_38NKx2AsFK5",
        "outputId": "4c70cb5b-6c87-4610-ffb4-ffa05815b47d"
      },
      "execution_count": null,
      "outputs": [
        {
          "output_type": "stream",
          "name": "stdout",
          "text": [
            "Nama kolom setelah perubahan:\n",
            "Index(['User_ID', 'Product_ID', 'Product_Name', 'Brand', 'Category', 'Price',\n",
            "       'Rating', 'Color', 'Size'],\n",
            "      dtype='object')\n"
          ]
        }
      ]
    },
    {
      "cell_type": "markdown",
      "source": [
        "## EDA"
      ],
      "metadata": {
        "id": "ZrBCbd1NoUmf"
      }
    },
    {
      "cell_type": "markdown",
      "source": [
        "Bagian Exploratory Data Analysis (EDA) ini bertujuan untuk mengeksplorasi dataset secara mendalam guna memahami berbagai karakteristik, pola, serta hubungan antar variabel yang mungkin ada. EDA membantu mengidentifikasi tren, anomali, serta pola distribusi, sekaligus menemukan korelasi yang relevan untuk model atau keputusan yang akan diambil. Dengan menggunakan visualisasi data dan statistik deskriptif, dapat menggali lebih dalam untuk mendapatkan wawasan insight berharga yang dapat mendukung langkah pemodelan dan pengambilan keputusan berikutnya."
      ],
      "metadata": {
        "id": "3FufEj-NjRnJ"
      }
    },
    {
      "cell_type": "markdown",
      "source": [
        "### Deskripsi Variabel"
      ],
      "metadata": {
        "id": "c-5YgJvywSUZ"
      }
    },
    {
      "cell_type": "markdown",
      "source": [
        "Untuk mengetahi detail informasi pada dataset yang digunakan seperti, jumlah kolom, row, informasi data null dan tipe data, dapat menggunakan fungsi `.info`"
      ],
      "metadata": {
        "id": "trV7lSCS5hMk"
      }
    },
    {
      "cell_type": "code",
      "source": [
        "# Memastikan informasi tipe data pada masing-masing kolom\n",
        "df.info()"
      ],
      "metadata": {
        "colab": {
          "base_uri": "https://localhost:8080/"
        },
        "id": "LlRfDAiedcsw",
        "outputId": "a5a1b157-2ddf-4790-f5d6-405ca02b6e50"
      },
      "execution_count": null,
      "outputs": [
        {
          "output_type": "stream",
          "name": "stdout",
          "text": [
            "<class 'pandas.core.frame.DataFrame'>\n",
            "RangeIndex: 1000 entries, 0 to 999\n",
            "Data columns (total 9 columns):\n",
            " #   Column        Non-Null Count  Dtype  \n",
            "---  ------        --------------  -----  \n",
            " 0   User_ID       1000 non-null   int64  \n",
            " 1   Product_ID    1000 non-null   int64  \n",
            " 2   Product_Name  1000 non-null   object \n",
            " 3   Brand         1000 non-null   object \n",
            " 4   Category      1000 non-null   object \n",
            " 5   Price         1000 non-null   int64  \n",
            " 6   Rating        1000 non-null   float64\n",
            " 7   Color         1000 non-null   object \n",
            " 8   Size          1000 non-null   object \n",
            "dtypes: float64(1), int64(3), object(5)\n",
            "memory usage: 70.4+ KB\n"
          ]
        }
      ]
    },
    {
      "cell_type": "markdown",
      "source": [
        "-   **Ukuran Dataset**: Dataset memiliki  1000 entri, cukup komprehensif untuk analisis dasar di sektor fashion.\n",
        "-   **Kolom Informasi**: Terdapat 9 kolom yang mencakup informasi seperti identitas produk (`Product_ID`), nama produk, merek, kategori, harga, hingga atribut seperti warna (`Color`) dan ukuran (`Size`).\n",
        "-   **Jenis Data**: Data ini berisi kombinasi tipe numerik (`int64`,  `float64`) dan kategorikal (`object`), yang memungkinkan eksplorasi data yang kaya untuk berbagai tujuan seperti klasifikasi, analisis harga, atau rekomendasi produk.\n",
        "-   **Sumber**: Dataset ini berasal dari komunitas Kaggle dan ditujukan untuk membantu eksplorasi data fashion atau pengembangan model machine learning di bidang ini."
      ],
      "metadata": {
        "id": "cY_ChVj47j1t"
      }
    },
    {
      "cell_type": "markdown",
      "source": [
        "Untuk mengetahui gambaran statistik deskriptif dari dataset, digunakan fungsi `.describe`"
      ],
      "metadata": {
        "id": "FmdnNvxh68_0"
      }
    },
    {
      "cell_type": "code",
      "source": [
        "# Melakukan analisis statistik sederhana pada kolom data numerikal\n",
        "df.describe()"
      ],
      "metadata": {
        "colab": {
          "base_uri": "https://localhost:8080/",
          "height": 300
        },
        "id": "ty9lCMo6d0pO",
        "outputId": "65411a43-32bb-4ca5-8e3a-4270570ac12e"
      },
      "execution_count": null,
      "outputs": [
        {
          "output_type": "execute_result",
          "data": {
            "text/plain": [
              "          User_ID   Product_ID        Price       Rating\n",
              "count  1000.00000  1000.000000  1000.000000  1000.000000\n",
              "mean     50.41900   500.500000    55.785000     2.993135\n",
              "std      28.78131   288.819436    26.291748     1.153185\n",
              "min       1.00000     1.000000    10.000000     1.000967\n",
              "25%      26.00000   250.750000    33.000000     1.992786\n",
              "50%      50.00000   500.500000    57.000000     2.984003\n",
              "75%      75.00000   750.250000    78.250000     3.985084\n",
              "max     100.00000  1000.000000   100.000000     4.987964"
            ],
            "text/html": [
              "\n",
              "  <div id=\"df-6267c45b-43b9-46bb-b9ae-305cef8d4d19\" class=\"colab-df-container\">\n",
              "    <div>\n",
              "<style scoped>\n",
              "    .dataframe tbody tr th:only-of-type {\n",
              "        vertical-align: middle;\n",
              "    }\n",
              "\n",
              "    .dataframe tbody tr th {\n",
              "        vertical-align: top;\n",
              "    }\n",
              "\n",
              "    .dataframe thead th {\n",
              "        text-align: right;\n",
              "    }\n",
              "</style>\n",
              "<table border=\"1\" class=\"dataframe\">\n",
              "  <thead>\n",
              "    <tr style=\"text-align: right;\">\n",
              "      <th></th>\n",
              "      <th>User_ID</th>\n",
              "      <th>Product_ID</th>\n",
              "      <th>Price</th>\n",
              "      <th>Rating</th>\n",
              "    </tr>\n",
              "  </thead>\n",
              "  <tbody>\n",
              "    <tr>\n",
              "      <th>count</th>\n",
              "      <td>1000.00000</td>\n",
              "      <td>1000.000000</td>\n",
              "      <td>1000.000000</td>\n",
              "      <td>1000.000000</td>\n",
              "    </tr>\n",
              "    <tr>\n",
              "      <th>mean</th>\n",
              "      <td>50.41900</td>\n",
              "      <td>500.500000</td>\n",
              "      <td>55.785000</td>\n",
              "      <td>2.993135</td>\n",
              "    </tr>\n",
              "    <tr>\n",
              "      <th>std</th>\n",
              "      <td>28.78131</td>\n",
              "      <td>288.819436</td>\n",
              "      <td>26.291748</td>\n",
              "      <td>1.153185</td>\n",
              "    </tr>\n",
              "    <tr>\n",
              "      <th>min</th>\n",
              "      <td>1.00000</td>\n",
              "      <td>1.000000</td>\n",
              "      <td>10.000000</td>\n",
              "      <td>1.000967</td>\n",
              "    </tr>\n",
              "    <tr>\n",
              "      <th>25%</th>\n",
              "      <td>26.00000</td>\n",
              "      <td>250.750000</td>\n",
              "      <td>33.000000</td>\n",
              "      <td>1.992786</td>\n",
              "    </tr>\n",
              "    <tr>\n",
              "      <th>50%</th>\n",
              "      <td>50.00000</td>\n",
              "      <td>500.500000</td>\n",
              "      <td>57.000000</td>\n",
              "      <td>2.984003</td>\n",
              "    </tr>\n",
              "    <tr>\n",
              "      <th>75%</th>\n",
              "      <td>75.00000</td>\n",
              "      <td>750.250000</td>\n",
              "      <td>78.250000</td>\n",
              "      <td>3.985084</td>\n",
              "    </tr>\n",
              "    <tr>\n",
              "      <th>max</th>\n",
              "      <td>100.00000</td>\n",
              "      <td>1000.000000</td>\n",
              "      <td>100.000000</td>\n",
              "      <td>4.987964</td>\n",
              "    </tr>\n",
              "  </tbody>\n",
              "</table>\n",
              "</div>\n",
              "    <div class=\"colab-df-buttons\">\n",
              "\n",
              "  <div class=\"colab-df-container\">\n",
              "    <button class=\"colab-df-convert\" onclick=\"convertToInteractive('df-6267c45b-43b9-46bb-b9ae-305cef8d4d19')\"\n",
              "            title=\"Convert this dataframe to an interactive table.\"\n",
              "            style=\"display:none;\">\n",
              "\n",
              "  <svg xmlns=\"http://www.w3.org/2000/svg\" height=\"24px\" viewBox=\"0 -960 960 960\">\n",
              "    <path d=\"M120-120v-720h720v720H120Zm60-500h600v-160H180v160Zm220 220h160v-160H400v160Zm0 220h160v-160H400v160ZM180-400h160v-160H180v160Zm440 0h160v-160H620v160ZM180-180h160v-160H180v160Zm440 0h160v-160H620v160Z\"/>\n",
              "  </svg>\n",
              "    </button>\n",
              "\n",
              "  <style>\n",
              "    .colab-df-container {\n",
              "      display:flex;\n",
              "      gap: 12px;\n",
              "    }\n",
              "\n",
              "    .colab-df-convert {\n",
              "      background-color: #E8F0FE;\n",
              "      border: none;\n",
              "      border-radius: 50%;\n",
              "      cursor: pointer;\n",
              "      display: none;\n",
              "      fill: #1967D2;\n",
              "      height: 32px;\n",
              "      padding: 0 0 0 0;\n",
              "      width: 32px;\n",
              "    }\n",
              "\n",
              "    .colab-df-convert:hover {\n",
              "      background-color: #E2EBFA;\n",
              "      box-shadow: 0px 1px 2px rgba(60, 64, 67, 0.3), 0px 1px 3px 1px rgba(60, 64, 67, 0.15);\n",
              "      fill: #174EA6;\n",
              "    }\n",
              "\n",
              "    .colab-df-buttons div {\n",
              "      margin-bottom: 4px;\n",
              "    }\n",
              "\n",
              "    [theme=dark] .colab-df-convert {\n",
              "      background-color: #3B4455;\n",
              "      fill: #D2E3FC;\n",
              "    }\n",
              "\n",
              "    [theme=dark] .colab-df-convert:hover {\n",
              "      background-color: #434B5C;\n",
              "      box-shadow: 0px 1px 3px 1px rgba(0, 0, 0, 0.15);\n",
              "      filter: drop-shadow(0px 1px 2px rgba(0, 0, 0, 0.3));\n",
              "      fill: #FFFFFF;\n",
              "    }\n",
              "  </style>\n",
              "\n",
              "    <script>\n",
              "      const buttonEl =\n",
              "        document.querySelector('#df-6267c45b-43b9-46bb-b9ae-305cef8d4d19 button.colab-df-convert');\n",
              "      buttonEl.style.display =\n",
              "        google.colab.kernel.accessAllowed ? 'block' : 'none';\n",
              "\n",
              "      async function convertToInteractive(key) {\n",
              "        const element = document.querySelector('#df-6267c45b-43b9-46bb-b9ae-305cef8d4d19');\n",
              "        const dataTable =\n",
              "          await google.colab.kernel.invokeFunction('convertToInteractive',\n",
              "                                                    [key], {});\n",
              "        if (!dataTable) return;\n",
              "\n",
              "        const docLinkHtml = 'Like what you see? Visit the ' +\n",
              "          '<a target=\"_blank\" href=https://colab.research.google.com/notebooks/data_table.ipynb>data table notebook</a>'\n",
              "          + ' to learn more about interactive tables.';\n",
              "        element.innerHTML = '';\n",
              "        dataTable['output_type'] = 'display_data';\n",
              "        await google.colab.output.renderOutput(dataTable, element);\n",
              "        const docLink = document.createElement('div');\n",
              "        docLink.innerHTML = docLinkHtml;\n",
              "        element.appendChild(docLink);\n",
              "      }\n",
              "    </script>\n",
              "  </div>\n",
              "\n",
              "\n",
              "<div id=\"df-1a71dcf2-5525-4dfe-94d8-9303e8a57036\">\n",
              "  <button class=\"colab-df-quickchart\" onclick=\"quickchart('df-1a71dcf2-5525-4dfe-94d8-9303e8a57036')\"\n",
              "            title=\"Suggest charts\"\n",
              "            style=\"display:none;\">\n",
              "\n",
              "<svg xmlns=\"http://www.w3.org/2000/svg\" height=\"24px\"viewBox=\"0 0 24 24\"\n",
              "     width=\"24px\">\n",
              "    <g>\n",
              "        <path d=\"M19 3H5c-1.1 0-2 .9-2 2v14c0 1.1.9 2 2 2h14c1.1 0 2-.9 2-2V5c0-1.1-.9-2-2-2zM9 17H7v-7h2v7zm4 0h-2V7h2v10zm4 0h-2v-4h2v4z\"/>\n",
              "    </g>\n",
              "</svg>\n",
              "  </button>\n",
              "\n",
              "<style>\n",
              "  .colab-df-quickchart {\n",
              "      --bg-color: #E8F0FE;\n",
              "      --fill-color: #1967D2;\n",
              "      --hover-bg-color: #E2EBFA;\n",
              "      --hover-fill-color: #174EA6;\n",
              "      --disabled-fill-color: #AAA;\n",
              "      --disabled-bg-color: #DDD;\n",
              "  }\n",
              "\n",
              "  [theme=dark] .colab-df-quickchart {\n",
              "      --bg-color: #3B4455;\n",
              "      --fill-color: #D2E3FC;\n",
              "      --hover-bg-color: #434B5C;\n",
              "      --hover-fill-color: #FFFFFF;\n",
              "      --disabled-bg-color: #3B4455;\n",
              "      --disabled-fill-color: #666;\n",
              "  }\n",
              "\n",
              "  .colab-df-quickchart {\n",
              "    background-color: var(--bg-color);\n",
              "    border: none;\n",
              "    border-radius: 50%;\n",
              "    cursor: pointer;\n",
              "    display: none;\n",
              "    fill: var(--fill-color);\n",
              "    height: 32px;\n",
              "    padding: 0;\n",
              "    width: 32px;\n",
              "  }\n",
              "\n",
              "  .colab-df-quickchart:hover {\n",
              "    background-color: var(--hover-bg-color);\n",
              "    box-shadow: 0 1px 2px rgba(60, 64, 67, 0.3), 0 1px 3px 1px rgba(60, 64, 67, 0.15);\n",
              "    fill: var(--button-hover-fill-color);\n",
              "  }\n",
              "\n",
              "  .colab-df-quickchart-complete:disabled,\n",
              "  .colab-df-quickchart-complete:disabled:hover {\n",
              "    background-color: var(--disabled-bg-color);\n",
              "    fill: var(--disabled-fill-color);\n",
              "    box-shadow: none;\n",
              "  }\n",
              "\n",
              "  .colab-df-spinner {\n",
              "    border: 2px solid var(--fill-color);\n",
              "    border-color: transparent;\n",
              "    border-bottom-color: var(--fill-color);\n",
              "    animation:\n",
              "      spin 1s steps(1) infinite;\n",
              "  }\n",
              "\n",
              "  @keyframes spin {\n",
              "    0% {\n",
              "      border-color: transparent;\n",
              "      border-bottom-color: var(--fill-color);\n",
              "      border-left-color: var(--fill-color);\n",
              "    }\n",
              "    20% {\n",
              "      border-color: transparent;\n",
              "      border-left-color: var(--fill-color);\n",
              "      border-top-color: var(--fill-color);\n",
              "    }\n",
              "    30% {\n",
              "      border-color: transparent;\n",
              "      border-left-color: var(--fill-color);\n",
              "      border-top-color: var(--fill-color);\n",
              "      border-right-color: var(--fill-color);\n",
              "    }\n",
              "    40% {\n",
              "      border-color: transparent;\n",
              "      border-right-color: var(--fill-color);\n",
              "      border-top-color: var(--fill-color);\n",
              "    }\n",
              "    60% {\n",
              "      border-color: transparent;\n",
              "      border-right-color: var(--fill-color);\n",
              "    }\n",
              "    80% {\n",
              "      border-color: transparent;\n",
              "      border-right-color: var(--fill-color);\n",
              "      border-bottom-color: var(--fill-color);\n",
              "    }\n",
              "    90% {\n",
              "      border-color: transparent;\n",
              "      border-bottom-color: var(--fill-color);\n",
              "    }\n",
              "  }\n",
              "</style>\n",
              "\n",
              "  <script>\n",
              "    async function quickchart(key) {\n",
              "      const quickchartButtonEl =\n",
              "        document.querySelector('#' + key + ' button');\n",
              "      quickchartButtonEl.disabled = true;  // To prevent multiple clicks.\n",
              "      quickchartButtonEl.classList.add('colab-df-spinner');\n",
              "      try {\n",
              "        const charts = await google.colab.kernel.invokeFunction(\n",
              "            'suggestCharts', [key], {});\n",
              "      } catch (error) {\n",
              "        console.error('Error during call to suggestCharts:', error);\n",
              "      }\n",
              "      quickchartButtonEl.classList.remove('colab-df-spinner');\n",
              "      quickchartButtonEl.classList.add('colab-df-quickchart-complete');\n",
              "    }\n",
              "    (() => {\n",
              "      let quickchartButtonEl =\n",
              "        document.querySelector('#df-1a71dcf2-5525-4dfe-94d8-9303e8a57036 button');\n",
              "      quickchartButtonEl.style.display =\n",
              "        google.colab.kernel.accessAllowed ? 'block' : 'none';\n",
              "    })();\n",
              "  </script>\n",
              "</div>\n",
              "\n",
              "    </div>\n",
              "  </div>\n"
            ],
            "application/vnd.google.colaboratory.intrinsic+json": {
              "type": "dataframe",
              "summary": "{\n  \"name\": \"df\",\n  \"rows\": 8,\n  \"fields\": [\n    {\n      \"column\": \"User_ID\",\n      \"properties\": {\n        \"dtype\": \"number\",\n        \"std\": 338.20126218618947,\n        \"min\": 1.0,\n        \"max\": 1000.0,\n        \"num_unique_values\": 8,\n        \"samples\": [\n          50.419,\n          50.0,\n          1000.0\n        ],\n        \"semantic_type\": \"\",\n        \"description\": \"\"\n      }\n    },\n    {\n      \"column\": \"Product_ID\",\n      \"properties\": {\n        \"dtype\": \"number\",\n        \"std\": 360.1000917722167,\n        \"min\": 1.0,\n        \"max\": 1000.0,\n        \"num_unique_values\": 6,\n        \"samples\": [\n          1000.0,\n          500.5,\n          750.25\n        ],\n        \"semantic_type\": \"\",\n        \"description\": \"\"\n      }\n    },\n    {\n      \"column\": \"Price\",\n      \"properties\": {\n        \"dtype\": \"number\",\n        \"std\": 336.5907173351229,\n        \"min\": 10.0,\n        \"max\": 1000.0,\n        \"num_unique_values\": 8,\n        \"samples\": [\n          55.785,\n          57.0,\n          1000.0\n        ],\n        \"semantic_type\": \"\",\n        \"description\": \"\"\n      }\n    },\n    {\n      \"column\": \"Rating\",\n      \"properties\": {\n        \"dtype\": \"number\",\n        \"std\": 352.5914385671099,\n        \"min\": 1.000967235428064,\n        \"max\": 1000.0,\n        \"num_unique_values\": 8,\n        \"samples\": [\n          2.9931351057620845,\n          2.984002878443823,\n          1000.0\n        ],\n        \"semantic_type\": \"\",\n        \"description\": \"\"\n      }\n    }\n  ]\n}"
            }
          },
          "metadata": {},
          "execution_count": 8
        }
      ]
    },
    {
      "cell_type": "markdown",
      "source": [
        "Dataset ini terdiri dari 1000 data pengguna, produk, harga, dan rating.  Harga produk pada kolom  **Price**  memiliki rata-rata 55,79 dan standar deviasi 26,29, yang menunjukkan variasi harga cukup moderat. Harga berkisar dari 10 hingga 100, dengan sebagian besar produk memiliki harga di antara 33 dan 78,25. Jumlah rata-rata **Rating** produk adalah 2,99 dengan standar deviasi 1,15. Rating minimum adalah 1 dan maksimum 4,99, dengan sebagian besar produk mendapatkan rating antara 1,99 dan 3,99."
      ],
      "metadata": {
        "id": "t3YPS_xu7eK0"
      }
    },
    {
      "cell_type": "markdown",
      "source": [
        "### Missing Value dan Outliers"
      ],
      "metadata": {
        "id": "uWaWFPNmwaH0"
      }
    },
    {
      "cell_type": "markdown",
      "source": [
        "Penting untuk mengidentifikasi keberadaan nilai nol dalam dataset, terutama pada kolom numerik. Nilai nol dapat mewakili data yang hilang atau menunjukkan adanya pengisian data yang tidak sesuai konteks. Pada sel berikut, digunakan untuk menghitung jumlah nilai nol dalam setiap kolom dataset untuk memastikan apakah ada nilai yang perlu diperhatikan lebih lanjut."
      ],
      "metadata": {
        "id": "CEhsPE2V7nsA"
      }
    },
    {
      "cell_type": "code",
      "source": [
        "# Memastikan sel berisi angka nol\n",
        "nol_value = (df == 0).sum()\n",
        "print(nol_value)"
      ],
      "metadata": {
        "colab": {
          "base_uri": "https://localhost:8080/"
        },
        "id": "Mru9NAJZe4rZ",
        "outputId": "cea65f9a-581e-4fcb-f5a8-25443f12af3c"
      },
      "execution_count": null,
      "outputs": [
        {
          "output_type": "stream",
          "name": "stdout",
          "text": [
            "User_ID         0\n",
            "Product_ID      0\n",
            "Product_Name    0\n",
            "Brand           0\n",
            "Category        0\n",
            "Price           0\n",
            "Rating          0\n",
            "Color           0\n",
            "Size            0\n",
            "dtype: int64\n"
          ]
        }
      ]
    },
    {
      "cell_type": "markdown",
      "source": [
        "Berdasarkan output yang dihasilkan, menunjukan bahwa seluruh sel tidak ada yang memuat konten dengan angka nol."
      ],
      "metadata": {
        "id": "HmabvU2Q8Gxp"
      }
    },
    {
      "cell_type": "markdown",
      "source": [
        "Langkah penting dalam analisis data adalah memeriksa keberadaan nilai *null* (kosong) dalam dataset. Nilai *null* menunjukkan data yang hilang, yang dapat memengaruhi analisis atau model yang akan dibangun. Pada sel berikut, kita menghitung jumlah nilai *null* dalam setiap kolom dataset untuk menentukan langkah penanganan yang diperlukan, seperti imputasi atau penghapusan data."
      ],
      "metadata": {
        "id": "gA3sQIMR8iTv"
      }
    },
    {
      "cell_type": "code",
      "source": [
        "# Memastikan kolom berisi data Null\n",
        "df.isnull().sum()"
      ],
      "metadata": {
        "colab": {
          "base_uri": "https://localhost:8080/",
          "height": 366
        },
        "id": "XOVQchrdfCH4",
        "outputId": "aaf0f1b2-f199-4653-84f5-0891a824b6d1"
      },
      "execution_count": null,
      "outputs": [
        {
          "output_type": "execute_result",
          "data": {
            "text/plain": [
              "User_ID         0\n",
              "Product_ID      0\n",
              "Product_Name    0\n",
              "Brand           0\n",
              "Category        0\n",
              "Price           0\n",
              "Rating          0\n",
              "Color           0\n",
              "Size            0\n",
              "dtype: int64"
            ],
            "text/html": [
              "<div>\n",
              "<style scoped>\n",
              "    .dataframe tbody tr th:only-of-type {\n",
              "        vertical-align: middle;\n",
              "    }\n",
              "\n",
              "    .dataframe tbody tr th {\n",
              "        vertical-align: top;\n",
              "    }\n",
              "\n",
              "    .dataframe thead th {\n",
              "        text-align: right;\n",
              "    }\n",
              "</style>\n",
              "<table border=\"1\" class=\"dataframe\">\n",
              "  <thead>\n",
              "    <tr style=\"text-align: right;\">\n",
              "      <th></th>\n",
              "      <th>0</th>\n",
              "    </tr>\n",
              "  </thead>\n",
              "  <tbody>\n",
              "    <tr>\n",
              "      <th>User_ID</th>\n",
              "      <td>0</td>\n",
              "    </tr>\n",
              "    <tr>\n",
              "      <th>Product_ID</th>\n",
              "      <td>0</td>\n",
              "    </tr>\n",
              "    <tr>\n",
              "      <th>Product_Name</th>\n",
              "      <td>0</td>\n",
              "    </tr>\n",
              "    <tr>\n",
              "      <th>Brand</th>\n",
              "      <td>0</td>\n",
              "    </tr>\n",
              "    <tr>\n",
              "      <th>Category</th>\n",
              "      <td>0</td>\n",
              "    </tr>\n",
              "    <tr>\n",
              "      <th>Price</th>\n",
              "      <td>0</td>\n",
              "    </tr>\n",
              "    <tr>\n",
              "      <th>Rating</th>\n",
              "      <td>0</td>\n",
              "    </tr>\n",
              "    <tr>\n",
              "      <th>Color</th>\n",
              "      <td>0</td>\n",
              "    </tr>\n",
              "    <tr>\n",
              "      <th>Size</th>\n",
              "      <td>0</td>\n",
              "    </tr>\n",
              "  </tbody>\n",
              "</table>\n",
              "</div><br><label><b>dtype:</b> int64</label>"
            ]
          },
          "metadata": {},
          "execution_count": 10
        }
      ]
    },
    {
      "cell_type": "markdown",
      "source": [
        "Berdasarkan hasil pengecekan pada dataframe, tidak ditemukan adanya sel bernilai \"null\"/Nan/Kosong."
      ],
      "metadata": {
        "id": "pL71_96jgqql"
      }
    },
    {
      "cell_type": "markdown",
      "source": [
        "Untuk memastikan integritas data, kita perlu memeriksa apakah ada baris yang duplikat dalam dataset. Baris yang duplikat dapat menyebabkan bias atau distorsi dalam analisis, terutama jika analisis atau model bergantung pada keunikan data.\n",
        "\n",
        "Pada sel berikut, fungsi `df.duplicated()` digunakan untuk mengidentifikasi baris yang duplikat, dengan hasil berupa nilai *boolean* untuk setiap baris (True jika duplikat, False jika unik)."
      ],
      "metadata": {
        "id": "kNR7mv3L8qv-"
      }
    },
    {
      "cell_type": "code",
      "source": [
        "# Mengetahui kolom yang memiliki sel duplikat\n",
        "df.duplicated()"
      ],
      "metadata": {
        "colab": {
          "base_uri": "https://localhost:8080/",
          "height": 458
        },
        "id": "ZEkJTj8eWM3M",
        "outputId": "5ee305f0-7c50-4942-d094-74d5a6f9ba2e"
      },
      "execution_count": null,
      "outputs": [
        {
          "output_type": "execute_result",
          "data": {
            "text/plain": [
              "0      False\n",
              "1      False\n",
              "2      False\n",
              "3      False\n",
              "4      False\n",
              "       ...  \n",
              "995    False\n",
              "996    False\n",
              "997    False\n",
              "998    False\n",
              "999    False\n",
              "Length: 1000, dtype: bool"
            ],
            "text/html": [
              "<div>\n",
              "<style scoped>\n",
              "    .dataframe tbody tr th:only-of-type {\n",
              "        vertical-align: middle;\n",
              "    }\n",
              "\n",
              "    .dataframe tbody tr th {\n",
              "        vertical-align: top;\n",
              "    }\n",
              "\n",
              "    .dataframe thead th {\n",
              "        text-align: right;\n",
              "    }\n",
              "</style>\n",
              "<table border=\"1\" class=\"dataframe\">\n",
              "  <thead>\n",
              "    <tr style=\"text-align: right;\">\n",
              "      <th></th>\n",
              "      <th>0</th>\n",
              "    </tr>\n",
              "  </thead>\n",
              "  <tbody>\n",
              "    <tr>\n",
              "      <th>0</th>\n",
              "      <td>False</td>\n",
              "    </tr>\n",
              "    <tr>\n",
              "      <th>1</th>\n",
              "      <td>False</td>\n",
              "    </tr>\n",
              "    <tr>\n",
              "      <th>2</th>\n",
              "      <td>False</td>\n",
              "    </tr>\n",
              "    <tr>\n",
              "      <th>3</th>\n",
              "      <td>False</td>\n",
              "    </tr>\n",
              "    <tr>\n",
              "      <th>4</th>\n",
              "      <td>False</td>\n",
              "    </tr>\n",
              "    <tr>\n",
              "      <th>...</th>\n",
              "      <td>...</td>\n",
              "    </tr>\n",
              "    <tr>\n",
              "      <th>995</th>\n",
              "      <td>False</td>\n",
              "    </tr>\n",
              "    <tr>\n",
              "      <th>996</th>\n",
              "      <td>False</td>\n",
              "    </tr>\n",
              "    <tr>\n",
              "      <th>997</th>\n",
              "      <td>False</td>\n",
              "    </tr>\n",
              "    <tr>\n",
              "      <th>998</th>\n",
              "      <td>False</td>\n",
              "    </tr>\n",
              "    <tr>\n",
              "      <th>999</th>\n",
              "      <td>False</td>\n",
              "    </tr>\n",
              "  </tbody>\n",
              "</table>\n",
              "<p>1000 rows × 1 columns</p>\n",
              "</div><br><label><b>dtype:</b> bool</label>"
            ]
          },
          "metadata": {},
          "execution_count": 11
        }
      ]
    },
    {
      "cell_type": "markdown",
      "source": [
        "Berdasarkan output yang dihasilkan, dataset yang digunakan tidak memiliki kolom duplikat."
      ],
      "metadata": {
        "id": "QV_j1j1S9V7z"
      }
    },
    {
      "cell_type": "markdown",
      "source": [
        "Dalam mengidentifikasi outlier yang mungkin ada pada dataset, maka digunakan visualisasi menggunakan Boxplot.\n",
        "\n",
        "Langkah-langkah yang dilakukan dalam kode ini meliputi:\n",
        "\n",
        "1. **Pemilihan Kolom Numerik**:\n",
        "   - Kolom numerik dipilih berdasarkan tipe datanya, yaitu `int64` dan `float64`.\n",
        "   - Beberapa kolom seperti `User_ID`, `Product_ID`, dan `Category` dikecualikan karena tidak relevan untuk analisis statistik.\n",
        "\n",
        "2. **Pengaturan Ukuran Plot**:\n",
        "   - Ukuran plot disesuaikan agar setiap *boxplot* terlihat jelas dengan memanfaatkan panjang dinamis berdasarkan jumlah kolom numerik.\n",
        "\n",
        "3. **Pembuatan Boxplot**:\n",
        "   - Untuk setiap kolom numerik yang dipilih, dibuat *boxplot* yang memberikan gambaran mengenai distribusi data, seperti nilai tengah, sebaran data, dan keberadaan *outliers*.\n",
        "\n",
        "4. **Penyesuaian Tata Letak**:\n",
        "   - Dengan `plt.tight_layout()`, tata letak plot disesuaikan agar tidak terjadi tumpang tindih di antara plot.\n",
        "\n",
        "Hasil visualisasi ini akan membantu dalam mengidentifikasi pola distribusi dan potensi anomali dalam dataset."
      ],
      "metadata": {
        "id": "AOXgSPMs94F8"
      }
    },
    {
      "cell_type": "markdown",
      "source": [
        "Pendekatan menggunakan boxplot sangat penting untuk memahami karakteristik statistik data dan mendeteksi nilai-nilai ekstrem yang dapat memengaruhi model analitik atau prediktif.\n",
        "\n",
        "1. **Seleksi Kolom Numerik**:\n",
        "   - Kolom dengan tipe data `int64` dan `float64` dipilih untuk dianalisis.\n",
        "   - Kolom seperti `User_ID`, `Product_ID`, dan `Category` dikecualikan karena tidak relevan untuk visualisasi distribusi data.\n",
        "\n",
        "2. **Pengaturan Ukuran Plot**:\n",
        "   - Ukuran keseluruhan plot disesuaikan secara dinamis berdasarkan jumlah kolom numerik yang akan divisualisasikan, sehingga setiap plot memiliki ruang yang cukup.\n",
        "\n",
        "3. **Pembuatan Boxplot**:\n",
        "   - Untuk setiap kolom numerik, dibuat *boxplot* yang memberikan gambaran tentang:\n",
        "     - Nilai median (garis tengah kotak).\n",
        "     - Persebaran kuartil data.\n",
        "     - Nilai ekstrem (*outliers*) jika ada.\n",
        "\n",
        "4. **Penyesuaian Tata Letak**:\n",
        "   - Tata letak disesuaikan menggunakan `tight_layout()` untuk menghindari tumpang tindih antar plot.\n",
        "\n",
        "Hasil visualisasi ini dapat digunakan untuk:\n",
        "- Memahami persebaran nilai data.\n",
        "- Mengidentifikasi kolom dengan *outliers* atau distribusi yang tidak normal."
      ],
      "metadata": {
        "id": "oIqa_cTbSbzT"
      }
    },
    {
      "cell_type": "code",
      "source": [
        "  # Menentukan kolom numerik kecuali 'CustomerId' dan 'RowNumber'\n",
        "  numerical_columns = df.select_dtypes(include=['int64', 'float64']).columns\n",
        "  numerical_columns = [col for col in numerical_columns if col not in ['User_ID', 'Product_ID', 'Category']]\n",
        "\n",
        "  # Menyiapkan ukuran plot\n",
        "  plt.figure(figsize=(15, len(numerical_columns) * 2))\n",
        "\n",
        "  # Membuat boxplot untuk setiap kolom numerik yang dipilih\n",
        "  for i, column in enumerate(numerical_columns, 1):\n",
        "      plt.subplot(len(numerical_columns), 1, i)\n",
        "      sns.boxplot(x=df[column])\n",
        "      plt.title(f'Boxplot of {column}')\n",
        "\n",
        "  plt.tight_layout()\n",
        "  plt.show()"
      ],
      "metadata": {
        "colab": {
          "base_uri": "https://localhost:8080/",
          "height": 405
        },
        "id": "3mmS3BUAD9T1",
        "outputId": "f6bd7dc0-c0b3-41bc-d789-51d3b0412de9"
      },
      "execution_count": null,
      "outputs": [
        {
          "output_type": "display_data",
          "data": {
            "text/plain": [
              "<Figure size 1500x400 with 2 Axes>"
            ],
            "image/png": "[encoded data removed]"
          },
          "metadata": {}
        }
      ]
    },
    {
      "cell_type": "markdown",
      "source": [
        "Berdasarkan visualisasi boxplot yang dihasilkan, rentang data berada pada nilai normal, baik untuk kolom `price` maupun kolom `rating`."
      ],
      "metadata": {
        "id": "ULA-4IJ8UBOh"
      }
    },
    {
      "cell_type": "markdown",
      "source": [],
      "metadata": {
        "id": "Esza-miSUBGb"
      }
    },
    {
      "cell_type": "code",
      "source": [
        "df.Product_Name.unique()"
      ],
      "metadata": {
        "colab": {
          "base_uri": "https://localhost:8080/"
        },
        "id": "QQrlky1c_2-g",
        "outputId": "daf18176-734d-4cdf-dacc-d97b1ad94f93"
      },
      "execution_count": null,
      "outputs": [
        {
          "output_type": "execute_result",
          "data": {
            "text/plain": [
              "array(['Dress', 'Shoes', 'T-shirt', 'Jeans', 'Sweater'], dtype=object)"
            ]
          },
          "metadata": {},
          "execution_count": 13
        }
      ]
    },
    {
      "cell_type": "markdown",
      "source": [
        "### Univariate Analysis"
      ],
      "metadata": {
        "id": "JFc4MBc8xChj"
      }
    },
    {
      "cell_type": "markdown",
      "source": [
        "Kode berikut digunakan untuk membuat grafik batang (*bar plot*) yang menampilkan distribusi kategori dalam suatu kolom dataset, lengkap dengan persentase masing-masing kategori sebagai teks di atas batang. Visualisasi ini membantu memahami persebaran data kategori secara menyeluruh.\n",
        "\n",
        "1. **Fungsi `plot_category_counts`**:\n",
        "   - **Input**: Nama kolom dari dataset yang ingin divisualisasikan.\n",
        "   - **Proses**:\n",
        "     - Menghitung jumlah dan persentase masing-masing kategori.\n",
        "     - Membuat grafik batang menggunakan `seaborn.barplot`.\n",
        "     - Menambahkan persentase di atas setiap batang untuk memberikan informasi tambahan.\n",
        "\n",
        "2. **Komponen Visualisasi**:\n",
        "   - **Judul**: Menjelaskan isi grafik.\n",
        "   - **Sumbu X dan Y**:\n",
        "     - X: Kategori dalam kolom.\n",
        "     - Y: Jumlah kategori.\n",
        "   - **Teks Persentase**: Memberikan konteks tentang proporsi kategori secara lebih informatif.\n",
        "\n",
        "3. **Fungsi dalam Aksi**:\n",
        "   - Pada akhir kode, fungsi ini dipanggil dengan parameter `'Product_Name'` untuk memvisualisasikan distribusi kategori pada kolom tersebut."
      ],
      "metadata": {
        "id": "oTLi-dkMV1YP"
      }
    },
    {
      "cell_type": "code",
      "source": [
        "# Fungsi untuk menampilkan grafik batang dengan persentase sebagai teks\n",
        "def plot_category_counts(column_name):\n",
        "    # Menghitung jumlah kategori dan persentase\n",
        "    counts = df[column_name].value_counts()\n",
        "    percentages = (counts / counts.sum()) * 100\n",
        "\n",
        "    # Seting gaya grafik\n",
        "    sns.set(style=\"whitegrid\")\n",
        "    plt.figure(figsize=(10, 6))\n",
        "\n",
        "    # Membuat grafik batang\n",
        "    ax = sns.barplot(x=counts.index, y=counts.values, palette=\"viridis\")\n",
        "\n",
        "    # Menambahkan judul dan label\n",
        "    plt.title(f'Jumlah dan Persentase Kategori pada Kolom {column_name}', fontsize=16, fontweight='bold')\n",
        "    plt.xlabel(column_name, fontsize=14)\n",
        "    plt.ylabel('Jumlah', fontsize=14)\n",
        "\n",
        "    # Menambahkan persentase sebagai teks di atas setiap batang\n",
        "    for i, (count, percent) in enumerate(zip(counts, percentages)):\n",
        "        ax.text(i, count + 0.5, f'{percent:.2f}%', ha='center', color='black', fontsize=12)\n",
        "\n",
        "    # Menampilkan grafik\n",
        "    plt.show()\n",
        "\n",
        "# Memanggil fungsi dengan kolom yang diinginkan\n",
        "plot_category_counts('Product_Name')\n"
      ],
      "metadata": {
        "colab": {
          "base_uri": "https://localhost:8080/",
          "height": 664
        },
        "id": "QhY0zt7E_cHz",
        "outputId": "c2d0560e-eb0d-4840-f325-10d186f45161"
      },
      "execution_count": null,
      "outputs": [
        {
          "output_type": "stream",
          "name": "stderr",
          "text": [
            "<ipython-input-14-54bed1d5c5da>:12: FutureWarning: \n",
            "\n",
            "Passing `palette` without assigning `hue` is deprecated and will be removed in v0.14.0. Assign the `x` variable to `hue` and set `legend=False` for the same effect.\n",
            "\n",
            "  ax = sns.barplot(x=counts.index, y=counts.values, palette=\"viridis\")\n"
          ]
        },
        {
          "output_type": "display_data",
          "data": {
            "text/plain": [
              "<Figure size 1000x600 with 1 Axes>"
            ],
            "image/png": "[encoded data removed]"
          },
          "metadata": {}
        }
      ]
    },
    {
      "cell_type": "markdown",
      "source": [
        "Dari grafik batang yang dibuat, terlihat bahwa distribusi produk dalam dataset cukup beragam, dengan beberapa kategori memiliki dominasi lebih besar. Kategori **jeans** memiliki proporsi yang paling besar, yaitu sebanyak 23,1%, diikuti dengan produk **shoes** sebesar 22,2%, **t-shirt** 20,1% dan kategori **sweater** memiliki proporsi yang paling kecil, yaitu sebesar 17%. Hal ini menunjukan pada musim penjualan tersebut, produk-produk *casual* dan *versatile* terjual lebih laris dibanding produk yang berorientasi pada kondisi musim dan acara formal, seperti sweater dan dress."
      ],
      "metadata": {
        "id": "ELiG-JW7Wokr"
      }
    },
    {
      "cell_type": "markdown",
      "source": [
        "Grafik berikut membantu dalam memahami distribusi data pada kolom kategori seperti *Brand*, *Product Name*, atau kolom lain yang memiliki tipe data kategorikal.\n",
        "\n",
        "- Fungsi `plot_category_counts` digunakan untuk:\n",
        "  1. Menghitung jumlah setiap kategori dalam kolom tertentu.\n",
        "  2. Menghitung persentase jumlah kategori terhadap total data.\n",
        "  3. Membuat grafik batang menggunakan *Seaborn*, dengan tampilan estetis menggunakan palet warna `coolwarm`.\n",
        "  4. Menampilkan jumlah dan persentase kategori dalam grafik.\n"
      ],
      "metadata": {
        "id": "2D-nTISwW-xK"
      }
    },
    {
      "cell_type": "code",
      "source": [
        "# Fungsi untuk menampilkan grafik batang dengan persentase sebagai teks\n",
        "def plot_category_counts(column_name):\n",
        "    # Menghitung jumlah kategori dan persentase\n",
        "    counts = df[column_name].value_counts()\n",
        "    percentages = (counts / counts.sum()) * 100\n",
        "\n",
        "    # Seting gaya grafik\n",
        "    sns.set(style=\"whitegrid\")\n",
        "    plt.figure(figsize=(10, 6))\n",
        "\n",
        "    # Membuat grafik batang dengan palet warna yang lebih menarik\n",
        "    ax = sns.barplot(x=counts.index, y=counts.values, palette=\"coolwarm\", alpha=0.8)\n",
        "\n",
        "    # Menambahkan judul dan label\n",
        "    plt.title(f'Jumlah dan Persentase Kategori pada Kolom {column_name}', fontsize=16, fontweight='bold')\n",
        "    plt.xlabel(column_name, fontsize=14)\n",
        "    plt.ylabel('Jumlah', fontsize=14)\n",
        "\n",
        "    # Menambahkan persentase sebagai teks di atas setiap batang\n",
        "    for i, (count, percent) in enumerate(zip(counts, percentages)):\n",
        "        ax.text(i, count + 0.5, f'{percent:.2f}%', ha='center', color='black', fontsize=12)\n",
        "\n",
        "    # Menampilkan grafik\n",
        "    plt.show()\n",
        "\n",
        "# Memanggil fungsi dengan kolom yang diinginkan\n",
        "plot_category_counts('Brand')\n"
      ],
      "metadata": {
        "colab": {
          "base_uri": "https://localhost:8080/",
          "height": 663
        },
        "id": "I4KXcT8NmdFb",
        "outputId": "857b22f4-8e64-4a15-951b-5786485f6bc6"
      },
      "execution_count": null,
      "outputs": [
        {
          "output_type": "stream",
          "name": "stderr",
          "text": [
            "<ipython-input-15-95002565b1ec>:12: FutureWarning: \n",
            "\n",
            "Passing `palette` without assigning `hue` is deprecated and will be removed in v0.14.0. Assign the `x` variable to `hue` and set `legend=False` for the same effect.\n",
            "\n",
            "  ax = sns.barplot(x=counts.index, y=counts.values, palette=\"coolwarm\", alpha=0.8)\n"
          ]
        },
        {
          "output_type": "display_data",
          "data": {
            "text/plain": [
              "<Figure size 1000x600 with 1 Axes>"
            ],
            "image/png": "[encoded data removed]"
          },
          "metadata": {}
        }
      ]
    },
    {
      "cell_type": "markdown",
      "source": [
        "Berdasarkan grafik batang yang ditampilkan, merk dengan proporsi penjualan paling tinggi yaitu Nike sebesar 21,4% dan yang terendah adalah merk Gucci yaitu sebesar 19,1%."
      ],
      "metadata": {
        "id": "lWh4JvPhXVdD"
      }
    },
    {
      "cell_type": "markdown",
      "source": [
        "Kode berikut digunakan untuk membuat visualisasi grafik batang (*bar plot*) yang menggambarkan jumlah data dalam setiap kategori pada kolom `Color`. Grafik ini bertujuan untuk membantu memahami distribusi data pada kolom kategori tertentu secara lebih jelas dan terperinci."
      ],
      "metadata": {
        "id": "mAEhv1_3XzID"
      }
    },
    {
      "cell_type": "code",
      "source": [
        "# Fungsi untuk menampilkan grafik batang dengan persentase sebagai teks\n",
        "def plot_category_counts(column_name):\n",
        "    # Menghitung jumlah kategori dan persentase\n",
        "    counts = df[column_name].value_counts()\n",
        "    percentages = (counts / counts.sum()) * 100\n",
        "\n",
        "    # Seting gaya grafik\n",
        "    sns.set(style=\"whitegrid\")\n",
        "    plt.figure(figsize=(10, 6))\n",
        "\n",
        "    # Membuat grafik batang dengan palet warna yang lebih menarik\n",
        "    ax = sns.barplot(x=counts.index, y=counts.values, palette=\"viridis\", alpha=0.9)\n",
        "\n",
        "    # Menambahkan judul dan label\n",
        "    plt.title(f'Jumlah dan Persentase Kategori pada Kolom {column_name}', fontsize=16, fontweight='bold')\n",
        "    plt.xlabel(column_name, fontsize=14)\n",
        "    plt.ylabel('Jumlah', fontsize=14)\n",
        "\n",
        "    # Menambahkan persentase sebagai teks di atas setiap batang\n",
        "    for i, (count, percent) in enumerate(zip(counts, percentages)):\n",
        "        ax.text(i, count + 0.02 * max(counts), f'{percent:.2f}%', ha='center', color='black', fontsize=12)\n",
        "\n",
        "    # Menampilkan grafik\n",
        "    plt.show()\n",
        "\n",
        "# Memanggil fungsi dengan kolom yang diinginkan\n",
        "plot_category_counts('Color')\n"
      ],
      "metadata": {
        "colab": {
          "base_uri": "https://localhost:8080/",
          "height": 663
        },
        "id": "MWvPKdY4sPOG",
        "outputId": "9a2c4f55-567a-46bd-a752-079cff9fa62c"
      },
      "execution_count": null,
      "outputs": [
        {
          "output_type": "stream",
          "name": "stderr",
          "text": [
            "<ipython-input-16-411f2d8d6e0f>:12: FutureWarning: \n",
            "\n",
            "Passing `palette` without assigning `hue` is deprecated and will be removed in v0.14.0. Assign the `x` variable to `hue` and set `legend=False` for the same effect.\n",
            "\n",
            "  ax = sns.barplot(x=counts.index, y=counts.values, palette=\"viridis\", alpha=0.9)\n"
          ]
        },
        {
          "output_type": "display_data",
          "data": {
            "text/plain": [
              "<Figure size 1000x600 with 1 Axes>"
            ],
            "image/png": "[encoded data removed]"
          },
          "metadata": {}
        }
      ]
    },
    {
      "cell_type": "markdown",
      "source": [
        "Produk yang berwarna putih memiliki proporsi penjualan paling tinggi, yaitu sebesar 19,3%. Sedangkan produk yang berwarna hijau, merah dan hitam memiliki proporsi yang paling rendah. Ketiga warna tersebut memiliki penjualan yang seimbang, yaitu di sekitar 15%."
      ],
      "metadata": {
        "id": "waZCEEiKYDAT"
      }
    },
    {
      "cell_type": "markdown",
      "source": [
        "Kode berikut bertujuan untuk membuat visualisasi distribusi kategori pada kolom `Size` dalam bentuk grafik batang (*bar plot*). Grafik ini menunjukkan jumlah data di setiap kategori pada kolom tersebut serta menambahkan persentase masing-masing kategori untuk memberikan wawasan yang lebih komprehensif."
      ],
      "metadata": {
        "id": "7vTgHdOkYULu"
      }
    },
    {
      "cell_type": "code",
      "source": [
        "# Fungsi untuk menampilkan grafik batang dengan persentase sebagai teks\n",
        "def plot_category_counts(column_name):\n",
        "    # Menghitung jumlah kategori dan persentase\n",
        "    counts = df[column_name].value_counts()\n",
        "    percentages = (counts / counts.sum()) * 100\n",
        "\n",
        "    # Seting gaya grafik\n",
        "    sns.set(style=\"whitegrid\")\n",
        "    plt.figure(figsize=(10, 6))\n",
        "\n",
        "    # Membuat grafik batang dengan palet warna yang lebih menarik\n",
        "    ax = sns.barplot(x=counts.index, y=counts.values, palette=\"viridis\", alpha=0.9)\n",
        "\n",
        "    # Menambahkan judul dan label\n",
        "    plt.title(f'Jumlah dan Persentase Kategori pada Kolom {column_name}', fontsize=16, fontweight='bold')\n",
        "    plt.xlabel(column_name, fontsize=14)\n",
        "    plt.ylabel('Jumlah', fontsize=14)\n",
        "\n",
        "    # Menambahkan persentase sebagai teks di atas setiap batang\n",
        "    for i, (count, percent) in enumerate(zip(counts, percentages)):\n",
        "        ax.text(i, count + 0.02 * max(counts), f'{percent:.2f}%', ha='center', color='black', fontsize=12)\n",
        "\n",
        "    # Menampilkan grafik\n",
        "    plt.show()\n",
        "\n",
        "# Memanggil fungsi dengan kolom yang diinginkan\n",
        "plot_category_counts('Size')"
      ],
      "metadata": {
        "colab": {
          "base_uri": "https://localhost:8080/",
          "height": 663
        },
        "id": "3Qeg7AA1y0bI",
        "outputId": "9e159fff-8367-4f54-be12-787f5777e0d1"
      },
      "execution_count": null,
      "outputs": [
        {
          "output_type": "stream",
          "name": "stderr",
          "text": [
            "<ipython-input-17-7ee97beb7bb3>:12: FutureWarning: \n",
            "\n",
            "Passing `palette` without assigning `hue` is deprecated and will be removed in v0.14.0. Assign the `x` variable to `hue` and set `legend=False` for the same effect.\n",
            "\n",
            "  ax = sns.barplot(x=counts.index, y=counts.values, palette=\"viridis\", alpha=0.9)\n"
          ]
        },
        {
          "output_type": "display_data",
          "data": {
            "text/plain": [
              "<Figure size 1000x600 with 1 Axes>"
            ],
            "image/png": "[encoded data removed]"
          },
          "metadata": {}
        }
      ]
    },
    {
      "cell_type": "markdown",
      "source": [
        "Proporsi penjualan berdasarkan ukuran, memiliki persentase yang seimbang. Semua ukuran yang terjual, berada di rentang sekitar  25%."
      ],
      "metadata": {
        "id": "5Se61bAqY5wv"
      }
    },
    {
      "cell_type": "markdown",
      "source": [
        "Kode berikut bertujuan untuk mengidentifikasi dan memvisualisasikan 3 produk teratas berdasarkan frekuensi kemunculan untuk setiap merek (*brand*) dalam dataset. Pendekatan ini membantu memahami kontribusi utama produk terhadap performa masing-masing merek.\n"
      ],
      "metadata": {
        "id": "BYEiOA2SZKS2"
      }
    },
    {
      "cell_type": "code",
      "source": [
        "# Langkah 1: Menghitung frekuensi produk per merek\n",
        "product_counts = (\n",
        "    df.groupby(['Brand', 'Product_Name'])\n",
        "    .size()\n",
        "    .reset_index(name='Count')\n",
        "    .sort_values(['Brand', 'Count'], ascending=[True, False])\n",
        ")\n",
        "\n",
        "# Langkah 2: Memilih 3 produk teratas untuk setiap merek\n",
        "top_3_products_per_brand = (\n",
        "    product_counts.groupby('Brand')\n",
        "    .head(3)\n",
        ")\n",
        "\n",
        "# Langkah 3: Visualisasi\n",
        "plt.figure(figsize=(12, 8))\n",
        "sns.barplot(\n",
        "    data=top_3_products_per_brand,\n",
        "    x=\"Brand\",\n",
        "    y=\"Count\",\n",
        "    hue=\"Product_Name\",\n",
        "    palette=\"tab10\"\n",
        ")\n",
        "plt.title(\"3 Produk Teratas Berdasarkan Frekuensi untuk Setiap Merek\")\n",
        "plt.xlabel(\"Brand\")\n",
        "plt.ylabel(\"Frequency\")\n",
        "plt.legend(title=\"Product_Name\", bbox_to_anchor=(1.05, 1), loc='upper left')\n",
        "plt.tight_layout()\n",
        "plt.show()"
      ],
      "metadata": {
        "colab": {
          "base_uri": "https://localhost:8080/",
          "height": 801
        },
        "id": "Xxpp3oQP1PJM",
        "outputId": "4386a444-7576-467a-a8f9-1431158c9842"
      },
      "execution_count": null,
      "outputs": [
        {
          "output_type": "display_data",
          "data": {
            "text/plain": [
              "<Figure size 1200x800 with 1 Axes>"
            ],
            "image/png": "[encoded data removed]"
          },
          "metadata": {}
        }
      ]
    },
    {
      "cell_type": "markdown",
      "source": [
        "Grafik batang di atas menunjukan top 3 product dari masing-masing merek. Berdasarkan 5 merek yang dijual, 4 diantaranya memiliki jenis produk terlaris yang sama yaitu Adidas, Gucci, Nike dan Zara. Sedangkan untuk merk H&M, kategori T-Shirt tidak masuk ke dalam kategori top 3, melainkan Dress."
      ],
      "metadata": {
        "id": "gAU2qaYtZTqV"
      }
    },
    {
      "cell_type": "markdown",
      "source": [
        "Kode berikut bertujuan untuk mengidentifikasi dan memvisualisasikan pola pembelian dari 5 pengguna dengan total transaksi terbanyak dalam dataset. Analisis ini memberikan wawasan tentang kontribusi pengguna tertentu terhadap penjualan produk.\n"
      ],
      "metadata": {
        "id": "QDaUe7k7Zhaz"
      }
    },
    {
      "cell_type": "code",
      "source": [
        "# Langkah 1: Hitung total pembelian per User ID\n",
        "user_purchase_counts = (\n",
        "    df.groupby('User_ID')\n",
        "    .size()\n",
        "    .reset_index(name='Total Purchases')\n",
        "    .sort_values(by='Total Purchases', ascending=False)\n",
        ")\n",
        "\n",
        "# Langkah 2: Pilih 5 User ID dengan pembelian terbanyak\n",
        "top_5_users = user_purchase_counts.head(5)\n",
        "\n",
        "# Filter data asli untuk 5 User ID tersebut\n",
        "filtered_df = df[df['User_ID'].isin(top_5_users['User_ID'])]\n",
        "\n",
        "# Langkah 3: Buat pivot table untuk visualisasi\n",
        "pivot_table = filtered_df.pivot_table(\n",
        "    index='User_ID',\n",
        "    columns='Product_Name',\n",
        "    aggfunc='size',\n",
        "    fill_value=0\n",
        ")\n",
        "\n",
        "# Langkah 4: Visualisasi dengan label teks\n",
        "fig, ax = plt.subplots(figsize=(12, 8))\n",
        "bar_plot = pivot_table.plot(kind='bar', stacked=True, ax=ax, colormap='Set2', edgecolor='black')\n",
        "\n",
        "# Tambahkan label teks di setiap batang\n",
        "for container in bar_plot.containers:\n",
        "    for bar in container:\n",
        "        height = bar.get_height()\n",
        "        if height > 0:  # Tampilkan hanya jika ada data\n",
        "            ax.text(\n",
        "                bar.get_x() + bar.get_width() / 2,  # Posisi X di tengah batang\n",
        "                bar.get_y() + height / 2,          # Posisi Y di tengah batang\n",
        "                f'{int(height)}',                 # Teks label\n",
        "                ha='center', va='center', fontsize=10, color='black'\n",
        "            )\n",
        "\n",
        "# Hilangkan angka pada sumbu Y\n",
        "ax.set_yticklabels([])\n",
        "ax.set_ylabel(\"\")\n",
        "ax.set_title(\"Top 5 Spender\", fontsize=14)\n",
        "ax.set_xlabel(\"User ID\", fontsize=12)\n",
        "plt.legend(title=\"Product Name\", bbox_to_anchor=(1.05, 1), loc='upper left')\n",
        "plt.tight_layout()\n",
        "plt.show()"
      ],
      "metadata": {
        "colab": {
          "base_uri": "https://localhost:8080/",
          "height": 801
        },
        "id": "B50Kf7dG4Gg0",
        "outputId": "869a0056-c036-40c5-db1d-85f1eb3f05c7"
      },
      "execution_count": null,
      "outputs": [
        {
          "output_type": "display_data",
          "data": {
            "text/plain": [
              "<Figure size 1200x800 with 1 Axes>"
            ],
            "image/png": "[encoded data removed]"
          },
          "metadata": {}
        }
      ]
    },
    {
      "cell_type": "markdown",
      "source": [
        "**Pengguna dengan Pengeluaran Tertinggi**\n",
        "- User ID 37 memiliki pengeluaran tertinggi, didominasi oleh kategori *Jeans*. Kontribusi kategori *Sweater* dan *Dress*, namun dengan proporsi lebih kecil dibandingkan *Jeans*.\n",
        "- User ID 34 menduduki posisi kedua, dengan pembelian terbesar pada kategori *Shoes*, diikuti oleh *Sweater* dan *Jeans*.\n",
        "\n",
        "**Distribusi Kategori Produk**\n",
        "- Kategori Dominan:\n",
        "  - *Shoes* dan *Sweater* merupakan kategori produk yang paling sering muncul, menunjukkan popularitasnya di antara pembelanja utama.\n",
        "- Kategori Minoritas:\n",
        "  - *Dress* memiliki kontribusi terkecil secara keseluruhan, kecuali pada beberapa pengguna tertentu seperti User ID 65.\n",
        "\n",
        "**Preferensi Pengguna**\n",
        "Setiap pengguna memiliki preferensi unik terhadap produk:\n",
        "  - User ID 46 dan 65 memiliki pengeluaran yang relatif merata di beberapa kategori seperti *Shoes*, *Sweater*, dan *T-shirt*.\n",
        "  - User ID 89 menunjukkan kecenderungan pada *Sweater* dan *Shoes*, tanpa kontribusi signifikan dari kategori lainnya."
      ],
      "metadata": {
        "id": "_FLlOqFTZ1Fb"
      }
    },
    {
      "cell_type": "markdown",
      "metadata": {
        "id": "bFgLyQPHX98s"
      },
      "source": [
        "## Data Preprocessing"
      ]
    },
    {
      "cell_type": "markdown",
      "source": [
        "### TF-IDF Vectorizer"
      ],
      "metadata": {
        "id": "u5Qk3TtPV9dn"
      }
    },
    {
      "cell_type": "markdown",
      "source": [
        "Data diproses menggunakan `TfidfVectorizer` dari pustaka `sklearn`, yang dirancang untuk mengubah teks menjadi representasi vektor numerik berbasis TF-IDF (Term Frequency-Inverse Document Frequency). Parameter `stop_words='english'` digunakan untuk menghapus kata-kata umum dalam bahasa Inggris yang tidak memberikan nilai informasi signifikan, seperti \"the\", \"and\", dll.\n",
        "\n",
        "Setiap kolom teks ini diubah menjadi matriks TF-IDF menggunakan `fit_transform`. Proses ini menghasilkan matriks berbentuk `[n_samples, n_features]`, di mana:\n",
        "     - *n_samples*: Jumlah data (baris).\n",
        "     - *n_features*: Jumlah fitur unik (kata atau istilah) dalam teks setelah preprocessing."
      ],
      "metadata": {
        "id": "ankkSsz2bO14"
      }
    },
    {
      "cell_type": "code",
      "source": [
        "# Inisialisasi TF-IDF Vectorizer\n",
        "tfidf_vectorizer = TfidfVectorizer(stop_words='english')\n",
        "\n",
        "# Terapkan TF-IDF pada 'Product Name' dan 'Category'\n",
        "product_name_tfidf = tfidf_vectorizer.fit_transform(df['Product_Name'])\n",
        "category_tfidf = tfidf_vectorizer.fit_transform(df['Category'])\n",
        "color_tfidf = tfidf_vectorizer.fit_transform(df['Color'])\n",
        "size_tfidf = tfidf_vectorizer.fit_transform(df['Size'])\n",
        "\n",
        "\n",
        "# Menampilkan bentuk matriks TF-IDF\n",
        "print(product_name_tfidf.shape)\n",
        "print(category_tfidf.shape)\n",
        "print(color_tfidf.shape)\n",
        "print(size_tfidf.shape)"
      ],
      "metadata": {
        "colab": {
          "base_uri": "https://localhost:8080/"
        },
        "id": "9GVeRzfPWCNN",
        "outputId": "ddc5b885-f975-4dd7-9ee6-84f7078da538"
      },
      "execution_count": null,
      "outputs": [
        {
          "output_type": "stream",
          "name": "stdout",
          "text": [
            "(1000, 5)\n",
            "(1000, 4)\n",
            "(1000, 6)\n",
            "(1000, 1)\n"
          ]
        }
      ]
    },
    {
      "cell_type": "markdown",
      "source": [
        "   Menggunakan fungsi `hstack` dari `scipy.sparse`, matriks TF-IDF dari masing-masing kolom digabung secara horizontal. Matriks hasil penggabungan mengintegrasikan informasi dari berbagai atribut menjadi satu representasi yang komprehensif."
      ],
      "metadata": {
        "id": "_TfEhjxfbc6V"
      }
    },
    {
      "cell_type": "code",
      "source": [
        "# Menggabungkan matriks TF-IDF\n",
        "combined_tfidf = hstack([product_name_tfidf, category_tfidf, color_tfidf, size_tfidf])\n",
        "\n",
        "# Menampilkan bentuk matriks gabungan\n",
        "print(combined_tfidf.shape)"
      ],
      "metadata": {
        "colab": {
          "base_uri": "https://localhost:8080/"
        },
        "id": "rIWO9YbbWPeZ",
        "outputId": "6c3f5952-db06-4df7-9ca2-1e0e58314af4"
      },
      "execution_count": null,
      "outputs": [
        {
          "output_type": "stream",
          "name": "stdout",
          "text": [
            "(1000, 16)\n"
          ]
        }
      ]
    },
    {
      "cell_type": "markdown",
      "source": [
        "Menyimpan model menggunakan modul pickle"
      ],
      "metadata": {
        "id": "ggY3aOC7bi_k"
      }
    },
    {
      "cell_type": "code",
      "source": [
        "# Simpan matriks TF-IDF yang sudah digabungkan\n",
        "with open('combined_tfidf.pkl', 'wb') as f:\n",
        "    pickle.dump(combined_tfidf, f)"
      ],
      "metadata": {
        "id": "lA9b4C02WTL-"
      },
      "execution_count": null,
      "outputs": []
    },
    {
      "cell_type": "markdown",
      "source": [
        "Metode .todense() pada objek sparse matrix seperti yang dihasilkan oleh TF-IDF Vectorizer (dalam library seperti scikit-learn) digunakan untuk mengubah representasi sparse matrix menjadi dense matrix."
      ],
      "metadata": {
        "id": "0hxr53k9bvWZ"
      }
    },
    {
      "cell_type": "code",
      "source": [
        "combined_tfidf.todense()"
      ],
      "metadata": {
        "colab": {
          "base_uri": "https://localhost:8080/"
        },
        "id": "pRz7RtFjWZAH",
        "outputId": "e47de3f9-6761-4db1-8891-1103869c68ce"
      },
      "execution_count": null,
      "outputs": [
        {
          "output_type": "execute_result",
          "data": {
            "text/plain": [
              "matrix([[1., 0., 0., ..., 0., 0., 1.],\n",
              "        [0., 0., 0., ..., 0., 0., 0.],\n",
              "        [1., 0., 0., ..., 0., 1., 1.],\n",
              "        ...,\n",
              "        [0., 0., 0., ..., 1., 0., 0.],\n",
              "        [0., 0., 1., ..., 0., 0., 0.],\n",
              "        [0., 0., 0., ..., 1., 0., 0.]])"
            ]
          },
          "metadata": {},
          "execution_count": 23
        }
      ]
    },
    {
      "cell_type": "markdown",
      "source": [
        "### Cosine Similiarity"
      ],
      "metadata": {
        "id": "g84Xs64BZFNr"
      }
    },
    {
      "cell_type": "markdown",
      "source": [
        "Cosine similarity adalah metrik yang digunakan untuk mengukur kesamaan antara dua vektor berdasarkan sudut kosinus di antara keduanya dalam ruang multidimensi. Metrik ini sangat populer dalam pemrosesan teks dan aplikasi berbasis data seperti sistem rekomendasi, karena berfokus pada orientasi vektor (arah) daripada magnitudo vektor. Berikut adalah kode yang digunakan untuk memnggunakan cosine similiarity dari library scikit-learn."
      ],
      "metadata": {
        "id": "CHIbOliaby2G"
      }
    },
    {
      "cell_type": "code",
      "source": [
        "# Menghitung cosine similarity pada matrix tf-idf\n",
        "cosine_sim = cosine_similarity(combined_tfidf)\n",
        "cosine_sim"
      ],
      "metadata": {
        "colab": {
          "base_uri": "https://localhost:8080/"
        },
        "id": "hdmE1SMbZI_D",
        "outputId": "413db0b5-5acf-468e-bcd1-df3731691165"
      },
      "execution_count": null,
      "outputs": [
        {
          "output_type": "execute_result",
          "data": {
            "text/plain": [
              "array([[1.        , 0.34107689, 0.54538125, ..., 0.28867513, 0.05240176,\n",
              "        0.05240176],\n",
              "       [0.34107689, 1.        , 0.28867513, ..., 0.06050834, 0.33333333,\n",
              "        0.66666667],\n",
              "       [0.54538125, 0.28867513, 1.        , ..., 0.05240176, 0.28867513,\n",
              "        0.28867513],\n",
              "       ...,\n",
              "       [0.28867513, 0.06050834, 0.05240176, ..., 1.        , 0.06050834,\n",
              "        0.39384167],\n",
              "       [0.05240176, 0.33333333, 0.28867513, ..., 0.06050834, 1.        ,\n",
              "        0.33333333],\n",
              "       [0.05240176, 0.66666667, 0.28867513, ..., 0.39384167, 0.33333333,\n",
              "        1.        ]])"
            ]
          },
          "metadata": {},
          "execution_count": 24
        }
      ]
    },
    {
      "cell_type": "markdown",
      "source": [
        "Membuat referensi produk terhadap kombinasi fitur dari pemesanan"
      ],
      "metadata": {
        "id": "1AWsO94gcTLP"
      }
    },
    {
      "cell_type": "code",
      "source": [
        "# Contoh: Produk referensi (ID produk)\n",
        "reference_product_id = 413  # Ganti dengan ID produk yang diinginkan"
      ],
      "metadata": {
        "id": "3jpeAbfAtXmT"
      },
      "execution_count": null,
      "outputs": []
    },
    {
      "cell_type": "code",
      "source": [
        "# Ambil skor kesamaan untuk produk referensi\n",
        "similarity_scores = cosine_sim[reference_product_id]\n",
        "\n",
        "# Urutkan skor kesamaan\n",
        "similar_products = sorted(list(enumerate(similarity_scores)), key=lambda x: x[1], reverse=True)\n",
        "\n",
        "# Ambil 5 produk teratas (selain produk referensi itu sendiri)\n",
        "top_5_products = [i[0] for i in similar_products[1:6]]\n",
        "\n",
        "print(\"Produk Rekomendasi:\")\n",
        "print(df.iloc[top_5_products][['Product_ID','Product_Name', 'Brand', 'Color', 'Size']].to_string(index=False))"
      ],
      "metadata": {
        "colab": {
          "base_uri": "https://localhost:8080/"
        },
        "id": "CKG2yU-ptZ37",
        "outputId": "9a2f62f5-1e1e-490e-9e16-5447b92462d0"
      },
      "execution_count": null,
      "outputs": [
        {
          "output_type": "stream",
          "name": "stdout",
          "text": [
            "Produk Rekomendasi:\n",
            " Product_ID Product_Name Brand  Color Size\n",
            "         10      T-shirt  Zara  White   XL\n",
            "         12      Sweater Gucci Yellow    M\n",
            "         13        Jeans  Nike    Red    M\n",
            "         23        Jeans  Zara Yellow    M\n",
            "         25      Sweater   H&M  Green    S\n"
          ]
        }
      ]
    },
    {
      "cell_type": "markdown",
      "source": [
        "# Collaborative Filtering"
      ],
      "metadata": {
        "id": "YfOWnz_6vYdb"
      }
    },
    {
      "cell_type": "markdown",
      "source": [
        "## Data Preprocessing"
      ],
      "metadata": {
        "id": "6l12htODxSwU"
      }
    },
    {
      "cell_type": "markdown",
      "source": [
        "Dataset dipersiapkan dengan langkah berikut:\n",
        "\n",
        "1. **Impor Library**: Gunakan `pandas` untuk manipulasi data dan `numpy` untuk operasi numerik.\n",
        "2. **Filter Data**: Ambil kolom `User_ID`, `Product_ID`, dan `Rating` sebagai data utama.\n",
        "3. **Encoding ID**: Ubah `User_ID` dan `Product_ID` menjadi indeks numerik untuk mempermudah pengolahan data.\n",
        "4. **Skala Rating (Opsional)**: Normalisasi nilai rating menjadi rentang 0 hingga 1.\n",
        "5. **Pembagian Data**: Pisahkan dataset menjadi 80% data latih dan 20% data uji menggunakan `train_test_split`.\n",
        "6. **Verifikasi Data**: Tampilkan data latih dan uji untuk memastikan pembagian berhasil."
      ],
      "metadata": {
        "id": "UqY36Q5GfXYd"
      }
    },
    {
      "cell_type": "code",
      "source": [
        "# Contoh dataset\n",
        "collaborative = df[['User_ID', 'Product_ID', 'Rating']]\n",
        "\n",
        "# Encode User_ID dan Product_ID menjadi indeks numerik\n",
        "user_ids = collaborative['User_ID'].unique().tolist()\n",
        "product_ids = collaborative['Product_ID'].unique().tolist()\n",
        "\n",
        "user_to_index = {user_id: i for i, user_id in enumerate(user_ids)}\n",
        "product_to_index = {product_id: i for i, product_id in enumerate(product_ids)}\n",
        "\n",
        "collaborative['user'] = collaborative['User_ID'].map(user_to_index)\n",
        "collaborative['product'] = collaborative['Product_ID'].map(product_to_index)\n",
        "\n",
        "# Skala Rating antara 0 dan 1 (opsional, tergantung dataset)\n",
        "collaborative['rating'] = collaborative['Rating'] / collaborative['Rating'].max()\n",
        "\n",
        "# Pisahkan data train dan test\n",
        "train, test = train_test_split(collaborative, test_size=0.2, random_state=42)\n",
        "\n",
        "print(\"Data Train:\\n\", train.head())\n",
        "print(\"Data Test:\\n\", test.head())"
      ],
      "metadata": {
        "colab": {
          "base_uri": "https://localhost:8080/"
        },
        "id": "2U-Eo85HvlWJ",
        "outputId": "17c06ff4-1b20-4ebf-90e0-f1d33fb30648"
      },
      "execution_count": null,
      "outputs": [
        {
          "output_type": "stream",
          "name": "stdout",
          "text": [
            "Data Train:\n",
            "      User_ID  Product_ID    Rating  user  product    rating\n",
            "29        20          30  3.110114    25       29  0.623524\n",
            "535       82         536  3.347461    24      535  0.671108\n",
            "695       81         696  4.592767    82      695  0.920770\n",
            "557        2         558  2.026682    57      557  0.406315\n",
            "836       59         837  2.406013    80      836  0.482364\n",
            "Data Test:\n",
            "      User_ID  Product_ID    Rating  user  product    rating\n",
            "521       24         522  2.939080    40      521  0.589234\n",
            "737       30         738  1.033843    86      737  0.207268\n",
            "740       49         741  3.386837    88      740  0.679002\n",
            "660       30         661  1.533612    86      660  0.307463\n",
            "411       66         412  3.402410    90      411  0.682124\n"
          ]
        },
        {
          "output_type": "stream",
          "name": "stderr",
          "text": [
            "<ipython-input-46-92edefdffb88>:14: SettingWithCopyWarning: \n",
            "A value is trying to be set on a copy of a slice from a DataFrame.\n",
            "Try using .loc[row_indexer,col_indexer] = value instead\n",
            "\n",
            "See the caveats in the documentation: https://pandas.pydata.org/pandas-docs/stable/user_guide/indexing.html#returning-a-view-versus-a-copy\n",
            "  collaborative['user'] = collaborative['User_ID'].map(user_to_index)\n",
            "<ipython-input-46-92edefdffb88>:15: SettingWithCopyWarning: \n",
            "A value is trying to be set on a copy of a slice from a DataFrame.\n",
            "Try using .loc[row_indexer,col_indexer] = value instead\n",
            "\n",
            "See the caveats in the documentation: https://pandas.pydata.org/pandas-docs/stable/user_guide/indexing.html#returning-a-view-versus-a-copy\n",
            "  collaborative['product'] = collaborative['Product_ID'].map(product_to_index)\n",
            "<ipython-input-46-92edefdffb88>:18: SettingWithCopyWarning: \n",
            "A value is trying to be set on a copy of a slice from a DataFrame.\n",
            "Try using .loc[row_indexer,col_indexer] = value instead\n",
            "\n",
            "See the caveats in the documentation: https://pandas.pydata.org/pandas-docs/stable/user_guide/indexing.html#returning-a-view-versus-a-copy\n",
            "  collaborative['rating'] = collaborative['Rating'] / collaborative['Rating'].max()\n"
          ]
        }
      ]
    },
    {
      "cell_type": "markdown",
      "source": [
        "## Model Development"
      ],
      "metadata": {
        "id": "1oXb7R9D2o6Y"
      }
    },
    {
      "cell_type": "markdown",
      "source": [
        "## Model Rekomendasi Neural Network\n",
        "\n",
        "Model menggunakan TensorFlow dan Keras untuk merekomendasikan produk berdasarkan interaksi pengguna dan produk. Berikut penjelasan komponennya:\n",
        "\n",
        "1. **Embedding**:\n",
        "   - Representasi numerik untuk pengguna dan produk dengan ukuran `embedding_size`.\n",
        "   - Menggunakan regularisasi `l2` untuk mencegah overfitting.\n",
        "\n",
        "2. **Dot Product**:\n",
        "   - Menghitung kesamaan antara embedding pengguna dan produk sebagai dasar prediksi.\n",
        "\n",
        "3. **Lapisan Tambahan**:\n",
        "   - **Dropout**: Mencegah overfitting dengan mematikan sebagian koneksi selama pelatihan.\n",
        "   - **Dense**: Lapisan sepenuhnya terhubung dengan aktivasi `relu` untuk menangkap hubungan non-linear.\n",
        "   - **Output Layer**: Menghasilkan nilai rating dengan aktivasi linear.\n",
        "\n",
        "4. **Proses Forward (`call`)**:\n",
        "   - Embedding pengguna dan produk dihitung, lalu diproses melalui `dot`, `dropout`, dan `dense`.\n",
        "   - Hasil akhir adalah prediksi rating.\n",
        "\n",
        "Model ini dirancang untuk memberikan prediksi produk rekomendasi berdasarkan interaksi pengguna dan produk."
      ],
      "metadata": {
        "id": "VEc3gb0ngy4I"
      }
    },
    {
      "cell_type": "code",
      "source": [
        "class RecommenderNet(Model):\n",
        "    def __init__(self, num_users, num_products, embedding_size=50, **kwargs):\n",
        "        super(RecommenderNet, self).__init__(**kwargs)\n",
        "        # Embedding untuk pengguna dan produk\n",
        "        self.user_embedding = Embedding(num_users, embedding_size, embeddings_initializer=\"he_normal\", embeddings_regularizer=tf.keras.regularizers.l2(1e-6))\n",
        "        self.product_embedding = Embedding(num_products, embedding_size, embeddings_initializer=\"he_normal\", embeddings_regularizer=tf.keras.regularizers.l2(1e-6))\n",
        "\n",
        "        # Lapisan dot product untuk kesamaan\n",
        "        self.dot = Dot(axes=1)\n",
        "\n",
        "        # Tambahkan lapisan Dropout dan Dense di dalam __init__\n",
        "        self.dropout = Dropout(0.2)\n",
        "        self.dense = Dense(128, activation='relu', kernel_regularizer=tf.keras.regularizers.l2(0.01))\n",
        "        self.output_layer = Dense(1, activation='linear') # Output layer untuk rating\n",
        "\n",
        "    def call(self, inputs):\n",
        "        user_vector = self.user_embedding(inputs[0])\n",
        "        product_vector = self.product_embedding(inputs[1])\n",
        "        dot_product = self.dot([user_vector, product_vector])\n",
        "\n",
        "        # Teruskan output dot product melalui lapisan Dropout dan Dense\n",
        "        x = self.dropout(dot_product)\n",
        "        x = self.dense(x)\n",
        "        output = self.output_layer(x)  # Output layer untuk rating\n",
        "\n",
        "        return output"
      ],
      "metadata": {
        "id": "2NhwoLrZxaSz"
      },
      "execution_count": null,
      "outputs": []
    },
    {
      "cell_type": "markdown",
      "source": [
        "## Train Model"
      ],
      "metadata": {
        "id": "jU8Uvgcg2uo-"
      }
    },
    {
      "cell_type": "markdown",
      "source": [
        "## Pelatihan Model Rekomendasi\n",
        "\n",
        "1. **Parameter Model**:\n",
        "   - `num_users`: Jumlah pengguna unik.\n",
        "   - `num_products`: Jumlah produk unik.\n",
        "   - `embedding_size`: Ukuran vektor embedding (default 50).\n",
        "\n",
        "2. **Inisialisasi Model**:\n",
        "   - Model menggunakan arsitektur *RecommenderNet* yang dirancang untuk memprediksi rating.\n",
        "\n",
        "3. **Kompilasi Model**:\n",
        "   - *Loss*: `mean_squared_error` untuk menghitung error prediksi.\n",
        "   - *Optimizer*: Adam dengan *learning rate* 0.0001.\n",
        "   - *Metrics*: `mean_squared_error` untuk evaluasi.\n",
        "\n",
        "4. **Data Latih dan Uji**:\n",
        "   - Input: Indeks numerik pengguna dan produk (`user` dan `product`).\n",
        "   - Target: Rating (`rating`).\n",
        "\n",
        "5. **Pelatihan Model**:\n",
        "   - *Batch size*: 64 data per iterasi.\n",
        "   - *Epochs*: 100 putaran pelatihan.\n",
        "   - *Validation*: Mengevaluasi model pada data uji setiap epoch.\n"
      ],
      "metadata": {
        "id": "I1TZGk0AhRD6"
      }
    },
    {
      "cell_type": "code",
      "source": [
        "# Parameter model\n",
        "num_users = len(user_ids)\n",
        "num_products = len(product_ids)\n",
        "embedding_size = 50\n",
        "\n",
        "# Model\n",
        "model = RecommenderNet(num_users, num_products, embedding_size)\n",
        "\n",
        "# Compile model\n",
        "model.compile(\n",
        "    loss=\"mean_squared_error\",\n",
        "    optimizer=tf.keras.optimizers.Adam(learning_rate=1e-4),\n",
        "    metrics=[\"mean_squared_error\"]\n",
        ")\n",
        "\n",
        "# Data untuk model\n",
        "x_train = [train['user'].values, train['product'].values]\n",
        "y_train = train['rating'].values\n",
        "\n",
        "x_test = [test['user'].values, test['product'].values]\n",
        "y_test = test['rating'].values\n",
        "\n",
        "# Latih model\n",
        "history = model.fit(\n",
        "    x=x_train,\n",
        "    y=y_train,\n",
        "    batch_size=64,\n",
        "    epochs=100,\n",
        "    validation_data=(x_test, y_test),\n",
        "    verbose=1\n",
        ")"
      ],
      "metadata": {
        "colab": {
          "base_uri": "https://localhost:8080/"
        },
        "id": "UDiNs0gxxgeS",
        "outputId": "4ddc60ed-c54b-4969-c8ae-6e5ef5a9dbc2"
      },
      "execution_count": null,
      "outputs": [
        {
          "output_type": "stream",
          "name": "stdout",
          "text": [
            "Epoch 1/100\n",
            "\u001b[1m13/13\u001b[0m \u001b[32m━━━━━━━━━━━━━━━━━━━━\u001b[0m\u001b[37m\u001b[0m \u001b[1m2s\u001b[0m 23ms/step - loss: 0.4290 - mean_squared_error: 0.4096 - val_loss: 0.3917 - val_mean_squared_error: 0.3724\n",
            "Epoch 2/100\n",
            "\u001b[1m13/13\u001b[0m \u001b[32m━━━━━━━━━━━━━━━━━━━━\u001b[0m\u001b[37m\u001b[0m \u001b[1m0s\u001b[0m 6ms/step - loss: 0.4151 - mean_squared_error: 0.3958 - val_loss: 0.3799 - val_mean_squared_error: 0.3608\n",
            "Epoch 3/100\n",
            "\u001b[1m13/13\u001b[0m \u001b[32m━━━━━━━━━━━━━━━━━━━━\u001b[0m\u001b[37m\u001b[0m \u001b[1m0s\u001b[0m 5ms/step - loss: 0.4133 - mean_squared_error: 0.3942 - val_loss: 0.3678 - val_mean_squared_error: 0.3489\n",
            "Epoch 4/100\n",
            "\u001b[1m13/13\u001b[0m \u001b[32m━━━━━━━━━━━━━━━━━━━━\u001b[0m\u001b[37m\u001b[0m \u001b[1m0s\u001b[0m 4ms/step - loss: 0.3912 - mean_squared_error: 0.3723 - val_loss: 0.3554 - val_mean_squared_error: 0.3366\n",
            "Epoch 5/100\n",
            "\u001b[1m13/13\u001b[0m \u001b[32m━━━━━━━━━━━━━━━━━━━━\u001b[0m\u001b[37m\u001b[0m \u001b[1m0s\u001b[0m 6ms/step - loss: 0.3769 - mean_squared_error: 0.3582 - val_loss: 0.3424 - val_mean_squared_error: 0.3238\n",
            "Epoch 6/100\n",
            "\u001b[1m13/13\u001b[0m \u001b[32m━━━━━━━━━━━━━━━━━━━━\u001b[0m\u001b[37m\u001b[0m \u001b[1m0s\u001b[0m 6ms/step - loss: 0.3460 - mean_squared_error: 0.3276 - val_loss: 0.3289 - val_mean_squared_error: 0.3106\n",
            "Epoch 7/100\n",
            "\u001b[1m13/13\u001b[0m \u001b[32m━━━━━━━━━━━━━━━━━━━━\u001b[0m\u001b[37m\u001b[0m \u001b[1m0s\u001b[0m 5ms/step - loss: 0.3370 - mean_squared_error: 0.3188 - val_loss: 0.3151 - val_mean_squared_error: 0.2971\n",
            "Epoch 8/100\n",
            "\u001b[1m13/13\u001b[0m \u001b[32m━━━━━━━━━━━━━━━━━━━━\u001b[0m\u001b[37m\u001b[0m \u001b[1m0s\u001b[0m 7ms/step - loss: 0.3218 - mean_squared_error: 0.3039 - val_loss: 0.3012 - val_mean_squared_error: 0.2834\n",
            "Epoch 9/100\n",
            "\u001b[1m13/13\u001b[0m \u001b[32m━━━━━━━━━━━━━━━━━━━━\u001b[0m\u001b[37m\u001b[0m \u001b[1m0s\u001b[0m 5ms/step - loss: 0.3164 - mean_squared_error: 0.2988 - val_loss: 0.2872 - val_mean_squared_error: 0.2698\n",
            "Epoch 10/100\n",
            "\u001b[1m13/13\u001b[0m \u001b[32m━━━━━━━━━━━━━━━━━━━━\u001b[0m\u001b[37m\u001b[0m \u001b[1m0s\u001b[0m 5ms/step - loss: 0.2941 - mean_squared_error: 0.2767 - val_loss: 0.2734 - val_mean_squared_error: 0.2562\n",
            "Epoch 11/100\n",
            "\u001b[1m13/13\u001b[0m \u001b[32m━━━━━━━━━━━━━━━━━━━━\u001b[0m\u001b[37m\u001b[0m \u001b[1m0s\u001b[0m 5ms/step - loss: 0.2909 - mean_squared_error: 0.2739 - val_loss: 0.2595 - val_mean_squared_error: 0.2427\n",
            "Epoch 12/100\n",
            "\u001b[1m13/13\u001b[0m \u001b[32m━━━━━━━━━━━━━━━━━━━━\u001b[0m\u001b[37m\u001b[0m \u001b[1m0s\u001b[0m 5ms/step - loss: 0.2662 - mean_squared_error: 0.2495 - val_loss: 0.2460 - val_mean_squared_error: 0.2295\n",
            "Epoch 13/100\n",
            "\u001b[1m13/13\u001b[0m \u001b[32m━━━━━━━━━━━━━━━━━━━━\u001b[0m\u001b[37m\u001b[0m \u001b[1m0s\u001b[0m 6ms/step - loss: 0.2604 - mean_squared_error: 0.2440 - val_loss: 0.2328 - val_mean_squared_error: 0.2166\n",
            "Epoch 14/100\n",
            "\u001b[1m13/13\u001b[0m \u001b[32m━━━━━━━━━━━━━━━━━━━━\u001b[0m\u001b[37m\u001b[0m \u001b[1m0s\u001b[0m 4ms/step - loss: 0.2498 - mean_squared_error: 0.2337 - val_loss: 0.2201 - val_mean_squared_error: 0.2042\n",
            "Epoch 15/100\n",
            "\u001b[1m13/13\u001b[0m \u001b[32m━━━━━━━━━━━━━━━━━━━━\u001b[0m\u001b[37m\u001b[0m \u001b[1m0s\u001b[0m 6ms/step - loss: 0.2316 - mean_squared_error: 0.2158 - val_loss: 0.2080 - val_mean_squared_error: 0.1924\n",
            "Epoch 16/100\n",
            "\u001b[1m13/13\u001b[0m \u001b[32m━━━━━━━━━━━━━━━━━━━━\u001b[0m\u001b[37m\u001b[0m \u001b[1m0s\u001b[0m 6ms/step - loss: 0.2127 - mean_squared_error: 0.1972 - val_loss: 0.1965 - val_mean_squared_error: 0.1811\n",
            "Epoch 17/100\n",
            "\u001b[1m13/13\u001b[0m \u001b[32m━━━━━━━━━━━━━━━━━━━━\u001b[0m\u001b[37m\u001b[0m \u001b[1m0s\u001b[0m 4ms/step - loss: 0.2084 - mean_squared_error: 0.1931 - val_loss: 0.1853 - val_mean_squared_error: 0.1702\n",
            "Epoch 18/100\n",
            "\u001b[1m13/13\u001b[0m \u001b[32m━━━━━━━━━━━━━━━━━━━━\u001b[0m\u001b[37m\u001b[0m \u001b[1m0s\u001b[0m 5ms/step - loss: 0.1887 - mean_squared_error: 0.1737 - val_loss: 0.1748 - val_mean_squared_error: 0.1599\n",
            "Epoch 19/100\n",
            "\u001b[1m13/13\u001b[0m \u001b[32m━━━━━━━━━━━━━━━━━━━━\u001b[0m\u001b[37m\u001b[0m \u001b[1m0s\u001b[0m 5ms/step - loss: 0.1812 - mean_squared_error: 0.1664 - val_loss: 0.1647 - val_mean_squared_error: 0.1501\n",
            "Epoch 20/100\n",
            "\u001b[1m13/13\u001b[0m \u001b[32m━━━━━━━━━━━━━━━━━━━━\u001b[0m\u001b[37m\u001b[0m \u001b[1m0s\u001b[0m 5ms/step - loss: 0.1694 - mean_squared_error: 0.1548 - val_loss: 0.1554 - val_mean_squared_error: 0.1410\n",
            "Epoch 21/100\n",
            "\u001b[1m13/13\u001b[0m \u001b[32m━━━━━━━━━━━━━━━━━━━━\u001b[0m\u001b[37m\u001b[0m \u001b[1m0s\u001b[0m 6ms/step - loss: 0.1538 - mean_squared_error: 0.1394 - val_loss: 0.1467 - val_mean_squared_error: 0.1324\n",
            "Epoch 22/100\n",
            "\u001b[1m13/13\u001b[0m \u001b[32m━━━━━━━━━━━━━━━━━━━━\u001b[0m\u001b[37m\u001b[0m \u001b[1m0s\u001b[0m 5ms/step - loss: 0.1443 - mean_squared_error: 0.1301 - val_loss: 0.1385 - val_mean_squared_error: 0.1245\n",
            "Epoch 23/100\n",
            "\u001b[1m13/13\u001b[0m \u001b[32m━━━━━━━━━━━━━━━━━━━━\u001b[0m\u001b[37m\u001b[0m \u001b[1m0s\u001b[0m 4ms/step - loss: 0.1360 - mean_squared_error: 0.1220 - val_loss: 0.1309 - val_mean_squared_error: 0.1170\n",
            "Epoch 24/100\n",
            "\u001b[1m13/13\u001b[0m \u001b[32m━━━━━━━━━━━━━━━━━━━━\u001b[0m\u001b[37m\u001b[0m \u001b[1m0s\u001b[0m 6ms/step - loss: 0.1407 - mean_squared_error: 0.1268 - val_loss: 0.1238 - val_mean_squared_error: 0.1100\n",
            "Epoch 25/100\n",
            "\u001b[1m13/13\u001b[0m \u001b[32m━━━━━━━━━━━━━━━━━━━━\u001b[0m\u001b[37m\u001b[0m \u001b[1m0s\u001b[0m 7ms/step - loss: 0.1229 - mean_squared_error: 0.1092 - val_loss: 0.1174 - val_mean_squared_error: 0.1038\n",
            "Epoch 26/100\n",
            "\u001b[1m13/13\u001b[0m \u001b[32m━━━━━━━━━━━━━━━━━━━━\u001b[0m\u001b[37m\u001b[0m \u001b[1m0s\u001b[0m 5ms/step - loss: 0.1142 - mean_squared_error: 0.1006 - val_loss: 0.1116 - val_mean_squared_error: 0.0981\n",
            "Epoch 27/100\n",
            "\u001b[1m13/13\u001b[0m \u001b[32m━━━━━━━━━━━━━━━━━━━━\u001b[0m\u001b[37m\u001b[0m \u001b[1m0s\u001b[0m 5ms/step - loss: 0.1154 - mean_squared_error: 0.1020 - val_loss: 0.1062 - val_mean_squared_error: 0.0929\n",
            "Epoch 28/100\n",
            "\u001b[1m13/13\u001b[0m \u001b[32m━━━━━━━━━━━━━━━━━━━━\u001b[0m\u001b[37m\u001b[0m \u001b[1m0s\u001b[0m 6ms/step - loss: 0.0988 - mean_squared_error: 0.0855 - val_loss: 0.1015 - val_mean_squared_error: 0.0883\n",
            "Epoch 29/100\n",
            "\u001b[1m13/13\u001b[0m \u001b[32m━━━━━━━━━━━━━━━━━━━━\u001b[0m\u001b[37m\u001b[0m \u001b[1m0s\u001b[0m 5ms/step - loss: 0.0951 - mean_squared_error: 0.0819 - val_loss: 0.0973 - val_mean_squared_error: 0.0842\n",
            "Epoch 30/100\n",
            "\u001b[1m13/13\u001b[0m \u001b[32m━━━━━━━━━━━━━━━━━━━━\u001b[0m\u001b[37m\u001b[0m \u001b[1m0s\u001b[0m 5ms/step - loss: 0.0997 - mean_squared_error: 0.0866 - val_loss: 0.0933 - val_mean_squared_error: 0.0804\n",
            "Epoch 31/100\n",
            "\u001b[1m13/13\u001b[0m \u001b[32m━━━━━━━━━━━━━━━━━━━━\u001b[0m\u001b[37m\u001b[0m \u001b[1m0s\u001b[0m 7ms/step - loss: 0.0908 - mean_squared_error: 0.0778 - val_loss: 0.0900 - val_mean_squared_error: 0.0771\n",
            "Epoch 32/100\n",
            "\u001b[1m13/13\u001b[0m \u001b[32m━━━━━━━━━━━━━━━━━━━━\u001b[0m\u001b[37m\u001b[0m \u001b[1m0s\u001b[0m 4ms/step - loss: 0.0823 - mean_squared_error: 0.0694 - val_loss: 0.0871 - val_mean_squared_error: 0.0744\n",
            "Epoch 33/100\n",
            "\u001b[1m13/13\u001b[0m \u001b[32m━━━━━━━━━━━━━━━━━━━━\u001b[0m\u001b[37m\u001b[0m \u001b[1m0s\u001b[0m 7ms/step - loss: 0.0785 - mean_squared_error: 0.0658 - val_loss: 0.0845 - val_mean_squared_error: 0.0718\n",
            "Epoch 34/100\n",
            "\u001b[1m13/13\u001b[0m \u001b[32m━━━━━━━━━━━━━━━━━━━━\u001b[0m\u001b[37m\u001b[0m \u001b[1m0s\u001b[0m 5ms/step - loss: 0.0730 - mean_squared_error: 0.0603 - val_loss: 0.0821 - val_mean_squared_error: 0.0695\n",
            "Epoch 35/100\n",
            "\u001b[1m13/13\u001b[0m \u001b[32m━━━━━━━━━━━━━━━━━━━━\u001b[0m\u001b[37m\u001b[0m \u001b[1m0s\u001b[0m 5ms/step - loss: 0.0722 - mean_squared_error: 0.0597 - val_loss: 0.0801 - val_mean_squared_error: 0.0676\n",
            "Epoch 36/100\n",
            "\u001b[1m13/13\u001b[0m \u001b[32m━━━━━━━━━━━━━━━━━━━━\u001b[0m\u001b[37m\u001b[0m \u001b[1m0s\u001b[0m 4ms/step - loss: 0.0659 - mean_squared_error: 0.0534 - val_loss: 0.0784 - val_mean_squared_error: 0.0660\n",
            "Epoch 37/100\n",
            "\u001b[1m13/13\u001b[0m \u001b[32m━━━━━━━━━━━━━━━━━━━━\u001b[0m\u001b[37m\u001b[0m \u001b[1m0s\u001b[0m 4ms/step - loss: 0.0680 - mean_squared_error: 0.0556 - val_loss: 0.0769 - val_mean_squared_error: 0.0646\n",
            "Epoch 38/100\n",
            "\u001b[1m13/13\u001b[0m \u001b[32m━━━━━━━━━━━━━━━━━━━━\u001b[0m\u001b[37m\u001b[0m \u001b[1m0s\u001b[0m 5ms/step - loss: 0.0633 - mean_squared_error: 0.0509 - val_loss: 0.0757 - val_mean_squared_error: 0.0634\n",
            "Epoch 39/100\n",
            "\u001b[1m13/13\u001b[0m \u001b[32m━━━━━━━━━━━━━━━━━━━━\u001b[0m\u001b[37m\u001b[0m \u001b[1m0s\u001b[0m 7ms/step - loss: 0.0642 - mean_squared_error: 0.0520 - val_loss: 0.0747 - val_mean_squared_error: 0.0624\n",
            "Epoch 40/100\n",
            "\u001b[1m13/13\u001b[0m \u001b[32m━━━━━━━━━━━━━━━━━━━━\u001b[0m\u001b[37m\u001b[0m \u001b[1m0s\u001b[0m 6ms/step - loss: 0.0573 - mean_squared_error: 0.0451 - val_loss: 0.0738 - val_mean_squared_error: 0.0617\n",
            "Epoch 41/100\n",
            "\u001b[1m13/13\u001b[0m \u001b[32m━━━━━━━━━━━━━━━━━━━━\u001b[0m\u001b[37m\u001b[0m \u001b[1m0s\u001b[0m 7ms/step - loss: 0.0581 - mean_squared_error: 0.0459 - val_loss: 0.0731 - val_mean_squared_error: 0.0610\n",
            "Epoch 42/100\n",
            "\u001b[1m13/13\u001b[0m \u001b[32m━━━━━━━━━━━━━━━━━━━━\u001b[0m\u001b[37m\u001b[0m \u001b[1m0s\u001b[0m 4ms/step - loss: 0.0557 - mean_squared_error: 0.0436 - val_loss: 0.0725 - val_mean_squared_error: 0.0604\n",
            "Epoch 43/100\n",
            "\u001b[1m13/13\u001b[0m \u001b[32m━━━━━━━━━━━━━━━━━━━━\u001b[0m\u001b[37m\u001b[0m \u001b[1m0s\u001b[0m 4ms/step - loss: 0.0571 - mean_squared_error: 0.0451 - val_loss: 0.0720 - val_mean_squared_error: 0.0599\n",
            "Epoch 44/100\n",
            "\u001b[1m13/13\u001b[0m \u001b[32m━━━━━━━━━━━━━━━━━━━━\u001b[0m\u001b[37m\u001b[0m \u001b[1m0s\u001b[0m 6ms/step - loss: 0.0506 - mean_squared_error: 0.0385 - val_loss: 0.0716 - val_mean_squared_error: 0.0596\n",
            "Epoch 45/100\n",
            "\u001b[1m13/13\u001b[0m \u001b[32m━━━━━━━━━━━━━━━━━━━━\u001b[0m\u001b[37m\u001b[0m \u001b[1m0s\u001b[0m 6ms/step - loss: 0.0495 - mean_squared_error: 0.0375 - val_loss: 0.0713 - val_mean_squared_error: 0.0593\n",
            "Epoch 46/100\n",
            "\u001b[1m13/13\u001b[0m \u001b[32m━━━━━━━━━━━━━━━━━━━━\u001b[0m\u001b[37m\u001b[0m \u001b[1m0s\u001b[0m 5ms/step - loss: 0.0498 - mean_squared_error: 0.0378 - val_loss: 0.0710 - val_mean_squared_error: 0.0591\n",
            "Epoch 47/100\n",
            "\u001b[1m13/13\u001b[0m \u001b[32m━━━━━━━━━━━━━━━━━━━━\u001b[0m\u001b[37m\u001b[0m \u001b[1m0s\u001b[0m 4ms/step - loss: 0.0488 - mean_squared_error: 0.0369 - val_loss: 0.0708 - val_mean_squared_error: 0.0589\n",
            "Epoch 48/100\n",
            "\u001b[1m13/13\u001b[0m \u001b[32m━━━━━━━━━━━━━━━━━━━━\u001b[0m\u001b[37m\u001b[0m \u001b[1m0s\u001b[0m 6ms/step - loss: 0.0491 - mean_squared_error: 0.0371 - val_loss: 0.0706 - val_mean_squared_error: 0.0587\n",
            "Epoch 49/100\n",
            "\u001b[1m13/13\u001b[0m \u001b[32m━━━━━━━━━━━━━━━━━━━━\u001b[0m\u001b[37m\u001b[0m \u001b[1m0s\u001b[0m 6ms/step - loss: 0.0459 - mean_squared_error: 0.0339 - val_loss: 0.0705 - val_mean_squared_error: 0.0586\n",
            "Epoch 50/100\n",
            "\u001b[1m13/13\u001b[0m \u001b[32m━━━━━━━━━━━━━━━━━━━━\u001b[0m\u001b[37m\u001b[0m \u001b[1m0s\u001b[0m 6ms/step - loss: 0.0456 - mean_squared_error: 0.0336 - val_loss: 0.0705 - val_mean_squared_error: 0.0585\n",
            "Epoch 51/100\n",
            "\u001b[1m13/13\u001b[0m \u001b[32m━━━━━━━━━━━━━━━━━━━━\u001b[0m\u001b[37m\u001b[0m \u001b[1m0s\u001b[0m 5ms/step - loss: 0.0440 - mean_squared_error: 0.0320 - val_loss: 0.0704 - val_mean_squared_error: 0.0584\n",
            "Epoch 52/100\n",
            "\u001b[1m13/13\u001b[0m \u001b[32m━━━━━━━━━━━━━━━━━━━━\u001b[0m\u001b[37m\u001b[0m \u001b[1m0s\u001b[0m 4ms/step - loss: 0.0422 - mean_squared_error: 0.0302 - val_loss: 0.0704 - val_mean_squared_error: 0.0584\n",
            "Epoch 53/100\n",
            "\u001b[1m13/13\u001b[0m \u001b[32m━━━━━━━━━━━━━━━━━━━━\u001b[0m\u001b[37m\u001b[0m \u001b[1m0s\u001b[0m 8ms/step - loss: 0.0403 - mean_squared_error: 0.0283 - val_loss: 0.0703 - val_mean_squared_error: 0.0583\n",
            "Epoch 54/100\n",
            "\u001b[1m13/13\u001b[0m \u001b[32m━━━━━━━━━━━━━━━━━━━━\u001b[0m\u001b[37m\u001b[0m \u001b[1m0s\u001b[0m 8ms/step - loss: 0.0389 - mean_squared_error: 0.0269 - val_loss: 0.0703 - val_mean_squared_error: 0.0583\n",
            "Epoch 55/100\n",
            "\u001b[1m13/13\u001b[0m \u001b[32m━━━━━━━━━━━━━━━━━━━━\u001b[0m\u001b[37m\u001b[0m \u001b[1m0s\u001b[0m 6ms/step - loss: 0.0376 - mean_squared_error: 0.0256 - val_loss: 0.0704 - val_mean_squared_error: 0.0583\n",
            "Epoch 56/100\n",
            "\u001b[1m13/13\u001b[0m \u001b[32m━━━━━━━━━━━━━━━━━━━━\u001b[0m\u001b[37m\u001b[0m \u001b[1m0s\u001b[0m 8ms/step - loss: 0.0385 - mean_squared_error: 0.0264 - val_loss: 0.0704 - val_mean_squared_error: 0.0583\n",
            "Epoch 57/100\n",
            "\u001b[1m13/13\u001b[0m \u001b[32m━━━━━━━━━━━━━━━━━━━━\u001b[0m\u001b[37m\u001b[0m \u001b[1m0s\u001b[0m 7ms/step - loss: 0.0366 - mean_squared_error: 0.0245 - val_loss: 0.0704 - val_mean_squared_error: 0.0583\n",
            "Epoch 58/100\n",
            "\u001b[1m13/13\u001b[0m \u001b[32m━━━━━━━━━━━━━━━━━━━━\u001b[0m\u001b[37m\u001b[0m \u001b[1m0s\u001b[0m 8ms/step - loss: 0.0343 - mean_squared_error: 0.0221 - val_loss: 0.0705 - val_mean_squared_error: 0.0583\n",
            "Epoch 59/100\n",
            "\u001b[1m13/13\u001b[0m \u001b[32m━━━━━━━━━━━━━━━━━━━━\u001b[0m\u001b[37m\u001b[0m \u001b[1m0s\u001b[0m 8ms/step - loss: 0.0333 - mean_squared_error: 0.0211 - val_loss: 0.0705 - val_mean_squared_error: 0.0583\n",
            "Epoch 60/100\n",
            "\u001b[1m13/13\u001b[0m \u001b[32m━━━━━━━━━━━━━━━━━━━━\u001b[0m\u001b[37m\u001b[0m \u001b[1m0s\u001b[0m 7ms/step - loss: 0.0325 - mean_squared_error: 0.0203 - val_loss: 0.0705 - val_mean_squared_error: 0.0583\n",
            "Epoch 61/100\n",
            "\u001b[1m13/13\u001b[0m \u001b[32m━━━━━━━━━━━━━━━━━━━━\u001b[0m\u001b[37m\u001b[0m \u001b[1m0s\u001b[0m 8ms/step - loss: 0.0323 - mean_squared_error: 0.0200 - val_loss: 0.0706 - val_mean_squared_error: 0.0583\n",
            "Epoch 62/100\n",
            "\u001b[1m13/13\u001b[0m \u001b[32m━━━━━━━━━━━━━━━━━━━━\u001b[0m\u001b[37m\u001b[0m \u001b[1m0s\u001b[0m 9ms/step - loss: 0.0303 - mean_squared_error: 0.0180 - val_loss: 0.0706 - val_mean_squared_error: 0.0583\n",
            "Epoch 63/100\n",
            "\u001b[1m13/13\u001b[0m \u001b[32m━━━━━━━━━━━━━━━━━━━━\u001b[0m\u001b[37m\u001b[0m \u001b[1m0s\u001b[0m 9ms/step - loss: 0.0299 - mean_squared_error: 0.0176 - val_loss: 0.0706 - val_mean_squared_error: 0.0583\n",
            "Epoch 64/100\n",
            "\u001b[1m13/13\u001b[0m \u001b[32m━━━━━━━━━━━━━━━━━━━━\u001b[0m\u001b[37m\u001b[0m \u001b[1m0s\u001b[0m 9ms/step - loss: 0.0283 - mean_squared_error: 0.0159 - val_loss: 0.0707 - val_mean_squared_error: 0.0583\n",
            "Epoch 65/100\n",
            "\u001b[1m13/13\u001b[0m \u001b[32m━━━━━━━━━━━━━━━━━━━━\u001b[0m\u001b[37m\u001b[0m \u001b[1m0s\u001b[0m 8ms/step - loss: 0.0281 - mean_squared_error: 0.0157 - val_loss: 0.0707 - val_mean_squared_error: 0.0583\n",
            "Epoch 66/100\n",
            "\u001b[1m13/13\u001b[0m \u001b[32m━━━━━━━━━━━━━━━━━━━━\u001b[0m\u001b[37m\u001b[0m \u001b[1m0s\u001b[0m 12ms/step - loss: 0.0271 - mean_squared_error: 0.0147 - val_loss: 0.0707 - val_mean_squared_error: 0.0583\n",
            "Epoch 67/100\n",
            "\u001b[1m13/13\u001b[0m \u001b[32m━━━━━━━━━━━━━━━━━━━━\u001b[0m\u001b[37m\u001b[0m \u001b[1m0s\u001b[0m 4ms/step - loss: 0.0260 - mean_squared_error: 0.0136 - val_loss: 0.0708 - val_mean_squared_error: 0.0584\n",
            "Epoch 68/100\n",
            "\u001b[1m13/13\u001b[0m \u001b[32m━━━━━━━━━━━━━━━━━━━━\u001b[0m\u001b[37m\u001b[0m \u001b[1m0s\u001b[0m 5ms/step - loss: 0.0240 - mean_squared_error: 0.0116 - val_loss: 0.0708 - val_mean_squared_error: 0.0584\n",
            "Epoch 69/100\n",
            "\u001b[1m13/13\u001b[0m \u001b[32m━━━━━━━━━━━━━━━━━━━━\u001b[0m\u001b[37m\u001b[0m \u001b[1m0s\u001b[0m 4ms/step - loss: 0.0239 - mean_squared_error: 0.0116 - val_loss: 0.0708 - val_mean_squared_error: 0.0584\n",
            "Epoch 70/100\n",
            "\u001b[1m13/13\u001b[0m \u001b[32m━━━━━━━━━━━━━━━━━━━━\u001b[0m\u001b[37m\u001b[0m \u001b[1m0s\u001b[0m 6ms/step - loss: 0.0233 - mean_squared_error: 0.0109 - val_loss: 0.0708 - val_mean_squared_error: 0.0584\n",
            "Epoch 71/100\n",
            "\u001b[1m13/13\u001b[0m \u001b[32m━━━━━━━━━━━━━━━━━━━━\u001b[0m\u001b[37m\u001b[0m \u001b[1m0s\u001b[0m 5ms/step - loss: 0.0220 - mean_squared_error: 0.0096 - val_loss: 0.0708 - val_mean_squared_error: 0.0584\n",
            "Epoch 72/100\n",
            "\u001b[1m13/13\u001b[0m \u001b[32m━━━━━━━━━━━━━━━━━━━━\u001b[0m\u001b[37m\u001b[0m \u001b[1m0s\u001b[0m 5ms/step - loss: 0.0212 - mean_squared_error: 0.0089 - val_loss: 0.0707 - val_mean_squared_error: 0.0584\n",
            "Epoch 73/100\n",
            "\u001b[1m13/13\u001b[0m \u001b[32m━━━━━━━━━━━━━━━━━━━━\u001b[0m\u001b[37m\u001b[0m \u001b[1m0s\u001b[0m 6ms/step - loss: 0.0205 - mean_squared_error: 0.0082 - val_loss: 0.0707 - val_mean_squared_error: 0.0584\n",
            "Epoch 74/100\n",
            "\u001b[1m13/13\u001b[0m \u001b[32m━━━━━━━━━━━━━━━━━━━━\u001b[0m\u001b[37m\u001b[0m \u001b[1m0s\u001b[0m 5ms/step - loss: 0.0199 - mean_squared_error: 0.0076 - val_loss: 0.0706 - val_mean_squared_error: 0.0584\n",
            "Epoch 75/100\n",
            "\u001b[1m13/13\u001b[0m \u001b[32m━━━━━━━━━━━━━━━━━━━━\u001b[0m\u001b[37m\u001b[0m \u001b[1m0s\u001b[0m 5ms/step - loss: 0.0204 - mean_squared_error: 0.0083 - val_loss: 0.0705 - val_mean_squared_error: 0.0584\n",
            "Epoch 76/100\n",
            "\u001b[1m13/13\u001b[0m \u001b[32m━━━━━━━━━━━━━━━━━━━━\u001b[0m\u001b[37m\u001b[0m \u001b[1m0s\u001b[0m 6ms/step - loss: 0.0182 - mean_squared_error: 0.0061 - val_loss: 0.0704 - val_mean_squared_error: 0.0584\n",
            "Epoch 77/100\n",
            "\u001b[1m13/13\u001b[0m \u001b[32m━━━━━━━━━━━━━━━━━━━━\u001b[0m\u001b[37m\u001b[0m \u001b[1m0s\u001b[0m 5ms/step - loss: 0.0182 - mean_squared_error: 0.0062 - val_loss: 0.0704 - val_mean_squared_error: 0.0584\n",
            "Epoch 78/100\n",
            "\u001b[1m13/13\u001b[0m \u001b[32m━━━━━━━━━━━━━━━━━━━━\u001b[0m\u001b[37m\u001b[0m \u001b[1m0s\u001b[0m 6ms/step - loss: 0.0179 - mean_squared_error: 0.0060 - val_loss: 0.0703 - val_mean_squared_error: 0.0584\n",
            "Epoch 79/100\n",
            "\u001b[1m13/13\u001b[0m \u001b[32m━━━━━━━━━━━━━━━━━━━━\u001b[0m\u001b[37m\u001b[0m \u001b[1m0s\u001b[0m 5ms/step - loss: 0.0168 - mean_squared_error: 0.0050 - val_loss: 0.0701 - val_mean_squared_error: 0.0584\n",
            "Epoch 80/100\n",
            "\u001b[1m13/13\u001b[0m \u001b[32m━━━━━━━━━━━━━━━━━━━━\u001b[0m\u001b[37m\u001b[0m \u001b[1m0s\u001b[0m 5ms/step - loss: 0.0171 - mean_squared_error: 0.0054 - val_loss: 0.0700 - val_mean_squared_error: 0.0584\n",
            "Epoch 81/100\n",
            "\u001b[1m13/13\u001b[0m \u001b[32m━━━━━━━━━━━━━━━━━━━━\u001b[0m\u001b[37m\u001b[0m \u001b[1m0s\u001b[0m 5ms/step - loss: 0.0164 - mean_squared_error: 0.0048 - val_loss: 0.0699 - val_mean_squared_error: 0.0584\n",
            "Epoch 82/100\n",
            "\u001b[1m13/13\u001b[0m \u001b[32m━━━━━━━━━━━━━━━━━━━━\u001b[0m\u001b[37m\u001b[0m \u001b[1m0s\u001b[0m 7ms/step - loss: 0.0158 - mean_squared_error: 0.0043 - val_loss: 0.0698 - val_mean_squared_error: 0.0584\n",
            "Epoch 83/100\n",
            "\u001b[1m13/13\u001b[0m \u001b[32m━━━━━━━━━━━━━━━━━━━━\u001b[0m\u001b[37m\u001b[0m \u001b[1m0s\u001b[0m 6ms/step - loss: 0.0152 - mean_squared_error: 0.0038 - val_loss: 0.0696 - val_mean_squared_error: 0.0584\n",
            "Epoch 84/100\n",
            "\u001b[1m13/13\u001b[0m \u001b[32m━━━━━━━━━━━━━━━━━━━━\u001b[0m\u001b[37m\u001b[0m \u001b[1m0s\u001b[0m 6ms/step - loss: 0.0147 - mean_squared_error: 0.0035 - val_loss: 0.0695 - val_mean_squared_error: 0.0583\n",
            "Epoch 85/100\n",
            "\u001b[1m13/13\u001b[0m \u001b[32m━━━━━━━━━━━━━━━━━━━━\u001b[0m\u001b[37m\u001b[0m \u001b[1m0s\u001b[0m 5ms/step - loss: 0.0147 - mean_squared_error: 0.0036 - val_loss: 0.0693 - val_mean_squared_error: 0.0583\n",
            "Epoch 86/100\n",
            "\u001b[1m13/13\u001b[0m \u001b[32m━━━━━━━━━━━━━━━━━━━━\u001b[0m\u001b[37m\u001b[0m \u001b[1m0s\u001b[0m 6ms/step - loss: 0.0145 - mean_squared_error: 0.0035 - val_loss: 0.0692 - val_mean_squared_error: 0.0583\n",
            "Epoch 87/100\n",
            "\u001b[1m13/13\u001b[0m \u001b[32m━━━━━━━━━━━━━━━━━━━━\u001b[0m\u001b[37m\u001b[0m \u001b[1m0s\u001b[0m 6ms/step - loss: 0.0138 - mean_squared_error: 0.0030 - val_loss: 0.0691 - val_mean_squared_error: 0.0583\n",
            "Epoch 88/100\n",
            "\u001b[1m13/13\u001b[0m \u001b[32m━━━━━━━━━━━━━━━━━━━━\u001b[0m\u001b[37m\u001b[0m \u001b[1m0s\u001b[0m 5ms/step - loss: 0.0133 - mean_squared_error: 0.0026 - val_loss: 0.0689 - val_mean_squared_error: 0.0583\n",
            "Epoch 89/100\n",
            "\u001b[1m13/13\u001b[0m \u001b[32m━━━━━━━━━━━━━━━━━━━━\u001b[0m\u001b[37m\u001b[0m \u001b[1m0s\u001b[0m 7ms/step - loss: 0.0134 - mean_squared_error: 0.0029 - val_loss: 0.0687 - val_mean_squared_error: 0.0583\n",
            "Epoch 90/100\n",
            "\u001b[1m13/13\u001b[0m \u001b[32m━━━━━━━━━━━━━━━━━━━━\u001b[0m\u001b[37m\u001b[0m \u001b[1m0s\u001b[0m 5ms/step - loss: 0.0128 - mean_squared_error: 0.0023 - val_loss: 0.0686 - val_mean_squared_error: 0.0582\n",
            "Epoch 91/100\n",
            "\u001b[1m13/13\u001b[0m \u001b[32m━━━━━━━━━━━━━━━━━━━━\u001b[0m\u001b[37m\u001b[0m \u001b[1m0s\u001b[0m 5ms/step - loss: 0.0126 - mean_squared_error: 0.0023 - val_loss: 0.0684 - val_mean_squared_error: 0.0582\n",
            "Epoch 92/100\n",
            "\u001b[1m13/13\u001b[0m \u001b[32m━━━━━━━━━━━━━━━━━━━━\u001b[0m\u001b[37m\u001b[0m \u001b[1m0s\u001b[0m 5ms/step - loss: 0.0124 - mean_squared_error: 0.0022 - val_loss: 0.0683 - val_mean_squared_error: 0.0582\n",
            "Epoch 93/100\n",
            "\u001b[1m13/13\u001b[0m \u001b[32m━━━━━━━━━━━━━━━━━━━━\u001b[0m\u001b[37m\u001b[0m \u001b[1m0s\u001b[0m 6ms/step - loss: 0.0120 - mean_squared_error: 0.0020 - val_loss: 0.0681 - val_mean_squared_error: 0.0582\n",
            "Epoch 94/100\n",
            "\u001b[1m13/13\u001b[0m \u001b[32m━━━━━━━━━━━━━━━━━━━━\u001b[0m\u001b[37m\u001b[0m \u001b[1m0s\u001b[0m 6ms/step - loss: 0.0121 - mean_squared_error: 0.0022 - val_loss: 0.0680 - val_mean_squared_error: 0.0582\n",
            "Epoch 95/100\n",
            "\u001b[1m13/13\u001b[0m \u001b[32m━━━━━━━━━━━━━━━━━━━━\u001b[0m\u001b[37m\u001b[0m \u001b[1m0s\u001b[0m 5ms/step - loss: 0.0117 - mean_squared_error: 0.0019 - val_loss: 0.0678 - val_mean_squared_error: 0.0582\n",
            "Epoch 96/100\n",
            "\u001b[1m13/13\u001b[0m \u001b[32m━━━━━━━━━━━━━━━━━━━━\u001b[0m\u001b[37m\u001b[0m \u001b[1m0s\u001b[0m 5ms/step - loss: 0.0114 - mean_squared_error: 0.0018 - val_loss: 0.0677 - val_mean_squared_error: 0.0582\n",
            "Epoch 97/100\n",
            "\u001b[1m13/13\u001b[0m \u001b[32m━━━━━━━━━━━━━━━━━━━━\u001b[0m\u001b[37m\u001b[0m \u001b[1m0s\u001b[0m 6ms/step - loss: 0.0111 - mean_squared_error: 0.0016 - val_loss: 0.0675 - val_mean_squared_error: 0.0581\n",
            "Epoch 98/100\n",
            "\u001b[1m13/13\u001b[0m \u001b[32m━━━━━━━━━━━━━━━━━━━━\u001b[0m\u001b[37m\u001b[0m \u001b[1m0s\u001b[0m 6ms/step - loss: 0.0112 - mean_squared_error: 0.0018 - val_loss: 0.0674 - val_mean_squared_error: 0.0581\n",
            "Epoch 99/100\n",
            "\u001b[1m13/13\u001b[0m \u001b[32m━━━━━━━━━━━━━━━━━━━━\u001b[0m\u001b[37m\u001b[0m \u001b[1m0s\u001b[0m 8ms/step - loss: 0.0108 - mean_squared_error: 0.0016 - val_loss: 0.0672 - val_mean_squared_error: 0.0581\n",
            "Epoch 100/100\n",
            "\u001b[1m13/13\u001b[0m \u001b[32m━━━━━━━━━━━━━━━━━━━━\u001b[0m\u001b[37m\u001b[0m \u001b[1m0s\u001b[0m 5ms/step - loss: 0.0106 - mean_squared_error: 0.0015 - val_loss: 0.0671 - val_mean_squared_error: 0.0581\n"
          ]
        }
      ]
    },
    {
      "cell_type": "markdown",
      "source": [
        "-   **Loss (train loss): 0.0106**  \n",
        "    Nilai loss ini menunjukkan seberapa baik model memprediksi rating pada data pelatihan. Dengan menggunakan fungsi loss *mean squared error (MSE)*, nilai ini menunjukkan rata-rata kuadrat dari kesalahan prediksi. Nilai yang kecil seperti 0.0106 menandakan bahwa model telah mempelajari pola data dengan baik pada set pelatihan.\n",
        "    \n",
        "-   **Mean Squared Error (MSE): 0.0015**  \n",
        "    MSE untuk data pelatihan menunjukkan bahwa rata-rata kesalahan prediksi model sangat kecil dalam hal skala rating yang digunakan. Hal ini mendukung bahwa model memiliki performa yang baik pada data pelatihan.\n",
        "    \n",
        "-   **Validation Loss: 0.0671**  \n",
        "    Validation loss mengukur performa model pada data validasi yang tidak dilibatkan dalam pelatihan. Nilai ini lebih tinggi dibandingkan train loss, yang mengindikasikan bahwa model sedikit kesulitan untuk sepenuhnya generalisasi pola dari data pelatihan ke data baru. Namun, selisih yang tidak terlalu besar (0.0671 vs 0.0106) menandakan bahwa model tidak mengalami overfitting yang signifikan.\n",
        "    \n",
        "-   **Validation MSE: 0.0581**  \n",
        "    MSE pada data validasi lebih tinggi dibandingkan data pelatihan, menunjukkan adanya sedikit perbedaan antara prediksi model pada data yang belum dilihat sebelumnya dibandingkan dengan data pelatihan. Namun, nilai ini tetap cukup rendah, menandakan bahwa model telah mempelajari hubungan antara pengguna dan produk secara efektif.\n",
        "\n",
        "Secara keseluruhan, hasil ini menunjukkan bahwa model `RecommenderNet` memiliki performa yang baik dan mampu memprediksi rating dengan tingkat kesalahan yang rendah pada data pelatihan maupun data validasi."
      ],
      "metadata": {
        "id": "K8TCoSQshdZT"
      }
    },
    {
      "cell_type": "code",
      "source": [
        "# Fungsi untuk visualisasi pelatihan\n",
        "def plot_training_history(history):\n",
        "    # Ambil nilai loss dan mse dari history\n",
        "    train_loss = history.history['loss']\n",
        "    val_loss = history.history['val_loss']\n",
        "    train_mse = history.history['mean_squared_error']\n",
        "    val_mse = history.history['val_mean_squared_error']\n",
        "\n",
        "    # Buat grafik Loss\n",
        "    plt.figure(figsize=(14, 6))\n",
        "\n",
        "    plt.subplot(1, 2, 1)\n",
        "    plt.plot(train_loss, label='Train Loss', color='blue')\n",
        "    plt.plot(val_loss, label='Validation Loss', color='orange')\n",
        "    plt.title('Loss During Training')\n",
        "    plt.xlabel('Epoch')\n",
        "    plt.ylabel('Loss')\n",
        "    plt.legend()\n",
        "    plt.grid()\n",
        "\n",
        "    # Buat grafik MSE\n",
        "    plt.subplot(1, 2, 2)\n",
        "    plt.plot(train_mse, label='Train MSE', color='green')\n",
        "    plt.plot(val_mse, label='Validation MSE', color='red')\n",
        "    plt.title('Mean Squared Error (MSE) During Training')\n",
        "    plt.xlabel('Epoch')\n",
        "    plt.ylabel('MSE')\n",
        "    plt.legend()\n",
        "    plt.grid()\n",
        "\n",
        "    plt.tight_layout()\n",
        "    plt.show()\n",
        "\n",
        "# Panggil fungsi untuk memvisualisasikan\n",
        "plot_training_history(history)"
      ],
      "metadata": {
        "colab": {
          "base_uri": "https://localhost:8080/",
          "height": 601
        },
        "id": "5Q7I74YpyV4-",
        "outputId": "4bcd5951-2c2e-46b9-9690-a01d966287c9"
      },
      "execution_count": null,
      "outputs": [
        {
          "output_type": "display_data",
          "data": {
            "text/plain": [
              "<Figure size 1400x600 with 2 Axes>"
            ],
            "image/png": "[encoded data removed]"
          },
          "metadata": {}
        }
      ]
    },
    {
      "cell_type": "markdown",
      "source": [
        "Dari visualisasi plotloss yang ditampilkan, dapat diketahui bahwa peningkatan performa model mulai melandai pada epoch sekitar 30. Hal tersebut terjadi pada data latih maupun data validasi MSE. Namun, penurunan performa model masih dalam kualitas baik, yaitu dengan hasil akhir berkisar 0,5 dan 0,1."
      ],
      "metadata": {
        "id": "QS_oEbEMhf3W"
      }
    }
  ]
}